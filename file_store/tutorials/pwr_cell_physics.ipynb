{
 "cells": [
  {
   "cell_type": "code",
   "execution_count": 1,
   "id": "851ee50d",
   "metadata": {},
   "outputs": [],
   "source": [
    "%matplotlib inline\n",
    "import numpy as np\n",
    "import openmc\n",
    "import matplotlib.pyplot as plt # importing matlpotlib for creating figures with the dependencies\n",
    "import warnings\n",
    "import os\n",
    "warnings.simplefilter('ignore')"
   ]
  },
  {
   "cell_type": "code",
   "execution_count": 2,
   "id": "44c10bc0",
   "metadata": {},
   "outputs": [],
   "source": [
    "def clean_previous_output():\n",
    "    for file in os.listdir(\".\"):\n",
    "        if file.endswith(\".h5\"):\n",
    "            print(\"File {} was removed\".format(os.path.abspath(file)))\n",
    "            os.remove(os.path.abspath(file))"
   ]
  },
  {
   "cell_type": "markdown",
   "id": "e8c69bce",
   "metadata": {},
   "source": [
    "Creating materials"
   ]
  },
  {
   "cell_type": "code",
   "execution_count": 3,
   "id": "11975108",
   "metadata": {},
   "outputs": [],
   "source": [
    "# Functions for defining materials\n",
    "def make_materials(enr=4.0, fuel_temperature=300.0, cladding_temperature=300.0, moderator_temperature=300.0, \n",
    "                   fuel_density=10.0, cladding_density=6.6, moderator_density=1.0):\n",
    "    # Defining uranium dioxide\n",
    "    uo2 = openmc.Material(name=\"uo2\")\n",
    "    uo2.add_element('U', 1.0, enrichment=enr)\n",
    "    uo2.add_element('O', 2.0)\n",
    "    uo2.set_density('g/cm3', fuel_density)\n",
    "    uo2.temperature = fuel_temperature\n",
    "\n",
    "    # Zirconium\n",
    "    zirconium = openmc.Material(name=\"zirconium\")\n",
    "    zirconium.add_element('Zr', 1.0)\n",
    "    zirconium.set_density('g/cm3', cladding_density)\n",
    "    zirconium.temperature = cladding_temperature\n",
    "\n",
    "    # Water\n",
    "    water = openmc.Material(name=\"h2o\")\n",
    "    water.add_element('H', 2.0)\n",
    "    water.add_element('O', 1.0)\n",
    "    water.set_density('g/cm3', moderator_density)\n",
    "    water.add_s_alpha_beta('c_H_in_H2O')\n",
    "    water.temperature = moderator_temperature\n",
    "\n",
    "    materials = openmc.Materials([uo2, zirconium, water])\n",
    "    materials.export_to_xml()\n",
    "    return materials"
   ]
  },
  {
   "cell_type": "markdown",
   "id": "12342928",
   "metadata": {},
   "source": [
    "Creating geometry"
   ]
  },
  {
   "cell_type": "code",
   "execution_count": 4,
   "id": "fa79b0db",
   "metadata": {},
   "outputs": [],
   "source": [
    "# Functions for geometry\n",
    "def make_geometry(materials, fuel_rad=0.39, clad_inner_rad=0.40, clad_outer_rad=0.46, pitch=1.26):\n",
    "    fuel_outer_radius = openmc.ZCylinder(r=fuel_rad)\n",
    "    clad_inner_radius = openmc.ZCylinder(r=clad_inner_rad)\n",
    "    clad_outer_radius = openmc.ZCylinder(r=clad_outer_rad)\n",
    "\n",
    "    fuel_region = -fuel_outer_radius\n",
    "    gap_region = +fuel_outer_radius & -clad_inner_radius\n",
    "    clad_region = +clad_inner_radius & -clad_outer_radius\n",
    "\n",
    "    fuel = openmc.Cell(name='fuel')\n",
    "    fuel.fill = materials[0]\n",
    "    fuel.region = fuel_region\n",
    "\n",
    "    gap = openmc.Cell(name='air gap')\n",
    "    gap.region = gap_region\n",
    "\n",
    "    clad = openmc.Cell(name='clad')\n",
    "    clad.fill = materials[1]\n",
    "    clad.region = clad_region\n",
    "\n",
    "#     pitch = 1.26\n",
    "    left = openmc.XPlane(-pitch/2, boundary_type='reflective')\n",
    "    right = openmc.XPlane(pitch/2, boundary_type='reflective')\n",
    "    bottom = openmc.YPlane(-pitch/2, boundary_type='reflective')\n",
    "    top = openmc.YPlane(pitch/2, boundary_type='reflective')\n",
    "\n",
    "    water_region = +left & -right & +bottom & -top & +clad_outer_radius\n",
    "\n",
    "    moderator = openmc.Cell(name='moderator')\n",
    "    moderator.fill = materials[2]\n",
    "    moderator.region = water_region\n",
    "\n",
    "    root_universe = openmc.Universe(cells=(fuel, gap, clad, moderator))\n",
    "    geometry = openmc.Geometry(root_universe)\n",
    "    geometry.export_to_xml()"
   ]
  },
  {
   "cell_type": "markdown",
   "id": "05b30fec",
   "metadata": {},
   "source": [
    "Creating initial source and settings"
   ]
  },
  {
   "cell_type": "code",
   "execution_count": 5,
   "id": "cb40fdb8",
   "metadata": {},
   "outputs": [],
   "source": [
    "# Function for defining settings\n",
    "def make_settings(batches=150, inactive=50, particles=500):\n",
    "    # Create a point source\n",
    "    point = openmc.stats.Point((0, 0, 0))\n",
    "    source = openmc.Source(space=point)\n",
    "\n",
    "    settings = openmc.Settings()\n",
    "    settings.source = source\n",
    "    settings.batches = batches\n",
    "    settings.inactive = inactive\n",
    "    settings.particles = particles\n",
    "    settings.temperature = {'method':'interpolation'}\n",
    "    settings.export_to_xml()"
   ]
  },
  {
   "cell_type": "markdown",
   "id": "7c114634",
   "metadata": {},
   "source": [
    "We can start analysis of the model's parameters on effective multiplication factor (keff)"
   ]
  },
  {
   "cell_type": "markdown",
   "id": "06c51388-ecc2-4abc-a803-9cd54d695bb7",
   "metadata": {},
   "source": [
    "Define number of praticles per batch and number of threads"
   ]
  },
  {
   "cell_type": "code",
   "execution_count": 6,
   "id": "5a59a039-e275-447c-b315-45c544710385",
   "metadata": {},
   "outputs": [],
   "source": [
    "nthreads = 24\n",
    "nparticles = 1000"
   ]
  },
  {
   "cell_type": "markdown",
   "id": "c7cf0981",
   "metadata": {},
   "source": [
    "# Keff vs Fuel Enrichment"
   ]
  },
  {
   "cell_type": "code",
   "execution_count": 7,
   "id": "564e9711",
   "metadata": {},
   "outputs": [
    {
     "name": "stdout",
     "output_type": "stream",
     "text": [
      "File /mnt/c/Users/dzianisuser/Projects/engg341/openmc/statepoint.150.h5 was removed\n",
      "File /mnt/c/Users/dzianisuser/Projects/engg341/openmc/summary.h5 was removed\n",
      "Enrichment = 1.00%\n",
      "    Keff = 1.03954 +/- 0.00263\n",
      "Enrichment = 2.00%\n",
      "    Keff = 1.28132 +/- 0.00296\n",
      "Enrichment = 3.00%\n",
      "    Keff = 1.39773 +/- 0.00278\n",
      "Enrichment = 4.00%\n",
      "    Keff = 1.46568 +/- 0.00277\n",
      "Enrichment = 5.00%\n",
      "    Keff = 1.50160 +/- 0.00270\n",
      "Enrichment = 6.00%\n",
      "    Keff = 1.52808 +/- 0.00301\n",
      "Enrichment = 7.00%\n",
      "    Keff = 1.54686 +/- 0.00256\n",
      "Enrichment = 8.00%\n",
      "    Keff = 1.56502 +/- 0.00260\n",
      "Enrichment = 9.00%\n",
      "    Keff = 1.57993 +/- 0.00266\n",
      "Enrichment = 10.00%\n",
      "    Keff = 1.59038 +/- 0.00267\n",
      "Enrichment = 11.00%\n",
      "    Keff = 1.59799 +/- 0.00264\n",
      "Enrichment = 12.00%\n",
      "    Keff = 1.59747 +/- 0.00226\n",
      "Enrichment = 13.00%\n",
      "    Keff = 1.61241 +/- 0.00253\n",
      "Enrichment = 14.00%\n",
      "    Keff = 1.61269 +/- 0.00272\n",
      "Enrichment = 15.00%\n",
      "    Keff = 1.62301 +/- 0.00283\n",
      "Enrichment = 16.00%\n",
      "    Keff = 1.62359 +/- 0.00247\n",
      "Enrichment = 17.00%\n",
      "    Keff = 1.62810 +/- 0.00247\n",
      "Enrichment = 18.00%\n",
      "    Keff = 1.62382 +/- 0.00225\n",
      "Enrichment = 19.00%\n",
      "    Keff = 1.63177 +/- 0.00229\n",
      "Enrichment = 20.00%\n",
      "    Keff = 1.63480 +/- 0.00254\n",
      "Enrichment = 21.00%\n",
      "    Keff = 1.64148 +/- 0.00217\n",
      "Enrichment = 22.00%\n",
      "    Keff = 1.64077 +/- 0.00261\n",
      "Enrichment = 23.00%\n",
      "    Keff = 1.64143 +/- 0.00200\n",
      "Enrichment = 24.00%\n",
      "    Keff = 1.64819 +/- 0.00232\n",
      "Enrichment = 25.00%\n",
      "    Keff = 1.65034 +/- 0.00217\n",
      "Enrichment = 26.00%\n",
      "    Keff = 1.65059 +/- 0.00255\n",
      "Enrichment = 27.00%\n",
      "    Keff = 1.65144 +/- 0.00220\n",
      "Enrichment = 28.00%\n",
      "    Keff = 1.65427 +/- 0.00248\n",
      "Enrichment = 29.00%\n",
      "    Keff = 1.65540 +/- 0.00221\n",
      "Enrichment = 30.00%\n",
      "    Keff = 1.65940 +/- 0.00273\n",
      "Enrichment = 31.00%\n",
      "    Keff = 1.66233 +/- 0.00231\n",
      "Enrichment = 32.00%\n",
      "    Keff = 1.66091 +/- 0.00222\n",
      "Enrichment = 33.00%\n",
      "    Keff = 1.66843 +/- 0.00171\n",
      "Enrichment = 34.00%\n",
      "    Keff = 1.66613 +/- 0.00226\n",
      "Enrichment = 35.00%\n",
      "    Keff = 1.66853 +/- 0.00204\n",
      "Enrichment = 36.00%\n",
      "    Keff = 1.67284 +/- 0.00211\n",
      "Enrichment = 37.00%\n",
      "    Keff = 1.67609 +/- 0.00208\n",
      "Enrichment = 38.00%\n",
      "    Keff = 1.67778 +/- 0.00237\n",
      "Enrichment = 39.00%\n",
      "    Keff = 1.67568 +/- 0.00225\n",
      "Enrichment = 40.00%\n",
      "    Keff = 1.67859 +/- 0.00225\n",
      "Enrichment = 41.00%\n",
      "    Keff = 1.68101 +/- 0.00228\n",
      "Enrichment = 42.00%\n",
      "    Keff = 1.68402 +/- 0.00217\n",
      "Enrichment = 43.00%\n",
      "    Keff = 1.68596 +/- 0.00206\n",
      "Enrichment = 44.00%\n",
      "    Keff = 1.68814 +/- 0.00230\n",
      "Enrichment = 45.00%\n",
      "    Keff = 1.68464 +/- 0.00185\n",
      "Enrichment = 46.00%\n",
      "    Keff = 1.69250 +/- 0.00217\n",
      "Enrichment = 47.00%\n",
      "    Keff = 1.69393 +/- 0.00223\n",
      "Enrichment = 48.00%\n",
      "    Keff = 1.69445 +/- 0.00191\n",
      "Enrichment = 49.00%\n",
      "    Keff = 1.69499 +/- 0.00229\n",
      "Enrichment = 50.00%\n",
      "    Keff = 1.70156 +/- 0.00221\n",
      "Enrichment = 51.00%\n",
      "    Keff = 1.70463 +/- 0.00220\n",
      "Enrichment = 52.00%\n",
      "    Keff = 1.70250 +/- 0.00210\n",
      "Enrichment = 53.00%\n",
      "    Keff = 1.70237 +/- 0.00223\n",
      "Enrichment = 54.00%\n",
      "    Keff = 1.70575 +/- 0.00201\n",
      "Enrichment = 55.00%\n",
      "    Keff = 1.70776 +/- 0.00188\n",
      "Enrichment = 56.00%\n",
      "    Keff = 1.70922 +/- 0.00217\n",
      "Enrichment = 57.00%\n",
      "    Keff = 1.71657 +/- 0.00189\n",
      "Enrichment = 58.00%\n",
      "    Keff = 1.71266 +/- 0.00202\n",
      "Enrichment = 59.00%\n",
      "    Keff = 1.71853 +/- 0.00193\n",
      "Enrichment = 60.00%\n",
      "    Keff = 1.71784 +/- 0.00170\n",
      "Enrichment = 61.00%\n",
      "    Keff = 1.72112 +/- 0.00210\n",
      "Enrichment = 62.00%\n",
      "    Keff = 1.72350 +/- 0.00215\n",
      "Enrichment = 63.00%\n",
      "    Keff = 1.72494 +/- 0.00185\n",
      "Enrichment = 64.00%\n",
      "    Keff = 1.71959 +/- 0.00197\n",
      "Enrichment = 65.00%\n",
      "    Keff = 1.72735 +/- 0.00191\n",
      "Enrichment = 66.00%\n",
      "    Keff = 1.73128 +/- 0.00181\n",
      "Enrichment = 67.00%\n",
      "    Keff = 1.72952 +/- 0.00194\n",
      "Enrichment = 68.00%\n",
      "    Keff = 1.73468 +/- 0.00173\n",
      "Enrichment = 69.00%\n",
      "    Keff = 1.73253 +/- 0.00176\n",
      "Enrichment = 70.00%\n",
      "    Keff = 1.73594 +/- 0.00182\n",
      "Enrichment = 71.00%\n",
      "    Keff = 1.74177 +/- 0.00205\n",
      "Enrichment = 72.00%\n",
      "    Keff = 1.74021 +/- 0.00167\n",
      "Enrichment = 73.00%\n",
      "    Keff = 1.74471 +/- 0.00183\n",
      "Enrichment = 74.00%\n",
      "    Keff = 1.74703 +/- 0.00197\n",
      "Enrichment = 75.00%\n",
      "    Keff = 1.74764 +/- 0.00193\n",
      "Enrichment = 76.00%\n",
      "    Keff = 1.74775 +/- 0.00220\n",
      "Enrichment = 77.00%\n",
      "    Keff = 1.75318 +/- 0.00146\n",
      "Enrichment = 78.00%\n",
      "    Keff = 1.75223 +/- 0.00176\n",
      "Enrichment = 79.00%\n",
      "    Keff = 1.75581 +/- 0.00167\n",
      "Enrichment = 80.00%\n",
      "    Keff = 1.75741 +/- 0.00182\n",
      "Enrichment = 81.00%\n",
      "    Keff = 1.75973 +/- 0.00202\n",
      "Enrichment = 82.00%\n",
      "    Keff = 1.76442 +/- 0.00180\n",
      "Enrichment = 83.00%\n",
      "    Keff = 1.76542 +/- 0.00187\n",
      "Enrichment = 84.00%\n",
      "    Keff = 1.76758 +/- 0.00163\n",
      "Enrichment = 85.00%\n",
      "    Keff = 1.76766 +/- 0.00170\n",
      "Enrichment = 86.00%\n",
      "    Keff = 1.76879 +/- 0.00187\n",
      "Enrichment = 87.00%\n",
      "    Keff = 1.77206 +/- 0.00158\n",
      "Enrichment = 88.00%\n",
      "    Keff = 1.77461 +/- 0.00161\n",
      "Enrichment = 89.00%\n",
      "    Keff = 1.77678 +/- 0.00157\n",
      "Enrichment = 90.00%\n",
      "    Keff = 1.77850 +/- 0.00166\n"
     ]
    }
   ],
   "source": [
    "clean_previous_output()\n",
    "enrichment = np.arange(1, 91, 1)\n",
    "batches = 150\n",
    "keffs = []\n",
    "std_devs = []\n",
    "for enr in enrichment:\n",
    "    print(\"Enrichment = {:.2f}%\".format(enr))\n",
    "    mats = make_materials(enr=enr)\n",
    "    make_geometry(materials=mats)\n",
    "    make_settings(batches=batches, particles=nparticles)\n",
    "    openmc.run(threads=nthreads, output=False)\n",
    "    sp = openmc.StatePoint('statepoint.' + str(batches) + '.h5')\n",
    "    keffs.append(sp.keff.nominal_value)\n",
    "    std_devs.append(sp.keff.std_dev)\n",
    "    print(\"    Keff = {:.5f} +/- {:.5f}\".format(sp.keff.nominal_value, sp.keff.std_dev))\n",
    "    sp.close()"
   ]
  },
  {
   "cell_type": "markdown",
   "id": "accc3033",
   "metadata": {},
   "source": [
    "Plotting the results with errorbars"
   ]
  },
  {
   "cell_type": "code",
   "execution_count": 8,
   "id": "181d91de",
   "metadata": {},
   "outputs": [
    {
     "data": {
      "text/plain": [
       "<ErrorbarContainer object of 3 artists>"
      ]
     },
     "execution_count": 8,
     "metadata": {},
     "output_type": "execute_result"
    },
    {
     "data": {
      "image/png": "[encoded data removed]",
      "text/plain": [
       "<Figure size 640x480 with 1 Axes>"
      ]
     },
     "metadata": {},
     "output_type": "display_data"
    }
   ],
   "source": [
    "keffs = np.array(keffs)\n",
    "std_devs = np.array(std_devs)\n",
    "plt.errorbar(enrichment, keffs, yerr=2*std_devs)"
   ]
  },
  {
   "cell_type": "markdown",
   "id": "14fa68ae",
   "metadata": {},
   "source": [
    "# Keff vs Pitch"
   ]
  },
  {
   "cell_type": "code",
   "execution_count": 9,
   "id": "5ea40e5b",
   "metadata": {},
   "outputs": [
    {
     "name": "stdout",
     "output_type": "stream",
     "text": [
      "File /mnt/c/Users/dzianisuser/Projects/engg341/openmc/statepoint.150.h5 was removed\n",
      "File /mnt/c/Users/dzianisuser/Projects/engg341/openmc/summary.h5 was removed\n",
      "Pitch = 1.00 cm\n",
      "    Keff = 1.28138 +/- 0.00306\n",
      "Pitch = 1.01 cm\n",
      "    Keff = 1.29406 +/- 0.00288\n",
      "Pitch = 1.02 cm\n",
      "    Keff = 1.30565 +/- 0.00316\n",
      "Pitch = 1.03 cm\n",
      "    Keff = 1.31867 +/- 0.00285\n",
      "Pitch = 1.04 cm\n",
      "    Keff = 1.33226 +/- 0.00286\n",
      "Pitch = 1.05 cm\n",
      "    Keff = 1.34673 +/- 0.00311\n",
      "Pitch = 1.06 cm\n",
      "    Keff = 1.34800 +/- 0.00318\n",
      "Pitch = 1.07 cm\n",
      "    Keff = 1.36070 +/- 0.00264\n",
      "Pitch = 1.08 cm\n",
      "    Keff = 1.36927 +/- 0.00312\n",
      "Pitch = 1.09 cm\n",
      "    Keff = 1.37962 +/- 0.00296\n",
      "Pitch = 1.10 cm\n",
      "    Keff = 1.38477 +/- 0.00281\n",
      "Pitch = 1.11 cm\n",
      "    Keff = 1.39345 +/- 0.00278\n",
      "Pitch = 1.12 cm\n",
      "    Keff = 1.39623 +/- 0.00313\n",
      "Pitch = 1.13 cm\n",
      "    Keff = 1.40500 +/- 0.00297\n",
      "Pitch = 1.14 cm\n",
      "    Keff = 1.41359 +/- 0.00273\n",
      "Pitch = 1.15 cm\n",
      "    Keff = 1.41936 +/- 0.00274\n",
      "Pitch = 1.16 cm\n",
      "    Keff = 1.42085 +/- 0.00268\n",
      "Pitch = 1.17 cm\n",
      "    Keff = 1.43503 +/- 0.00267\n",
      "Pitch = 1.18 cm\n",
      "    Keff = 1.43466 +/- 0.00287\n",
      "Pitch = 1.19 cm\n",
      "    Keff = 1.44104 +/- 0.00313\n",
      "Pitch = 1.20 cm\n",
      "    Keff = 1.44002 +/- 0.00268\n"
     ]
    }
   ],
   "source": [
    "clean_previous_output()\n",
    "pitches = np.arange(1.0, 1.21, 0.01)\n",
    "keffs = []\n",
    "std_devs = []\n",
    "batches = 150\n",
    "for pitch in pitches:\n",
    "    print(\"Pitch = {:.2f} cm\".format(pitch))\n",
    "    mats = make_materials()\n",
    "    make_geometry(materials=mats, pitch=pitch)\n",
    "    make_settings(batches=batches, particles=nparticles)\n",
    "    openmc.run(threads=nthreads, output=False)\n",
    "    sp = openmc.StatePoint('statepoint.' + str(batches) + '.h5')\n",
    "    keffs.append(sp.keff.nominal_value)\n",
    "    std_devs.append(sp.keff.std_dev)\n",
    "    print(\"    Keff = {:.5f} +/- {:.5f}\".format(sp.keff.nominal_value, sp.keff.std_dev))\n",
    "    sp.close()"
   ]
  },
  {
   "cell_type": "markdown",
   "id": "14b0980a",
   "metadata": {},
   "source": [
    "Plotting the results"
   ]
  },
  {
   "cell_type": "code",
   "execution_count": 10,
   "id": "5f081a9f",
   "metadata": {},
   "outputs": [
    {
     "data": {
      "text/plain": [
       "<ErrorbarContainer object of 3 artists>"
      ]
     },
     "execution_count": 10,
     "metadata": {},
     "output_type": "execute_result"
    },
    {
     "data": {
      "image/png": "[encoded data removed]",
      "text/plain": [
       "<Figure size 640x480 with 1 Axes>"
      ]
     },
     "metadata": {},
     "output_type": "display_data"
    }
   ],
   "source": [
    "keffs = np.array(keffs)\n",
    "std_devs = np.array(std_devs)\n",
    "plt.errorbar(pitches, keffs, yerr=2*std_devs)"
   ]
  },
  {
   "cell_type": "markdown",
   "id": "3ad6d78b",
   "metadata": {},
   "source": [
    "# Keff vs Fuel Temperature"
   ]
  },
  {
   "cell_type": "code",
   "execution_count": 11,
   "id": "60fba2a0",
   "metadata": {},
   "outputs": [
    {
     "name": "stdout",
     "output_type": "stream",
     "text": [
      "File /mnt/c/Users/dzianisuser/Projects/engg341/openmc/statepoint.150.h5 was removed\n",
      "File /mnt/c/Users/dzianisuser/Projects/engg341/openmc/summary.h5 was removed\n",
      "Temperature = 300.0 K\n",
      "    Keff = 1.46568 +/- 0.00277\n",
      "Temperature = 400.0 K\n",
      "    Keff = 1.45809 +/- 0.00302\n",
      "Temperature = 500.0 K\n",
      "    Keff = 1.45354 +/- 0.00280\n",
      "Temperature = 600.0 K\n",
      "    Keff = 1.45015 +/- 0.00296\n",
      "Temperature = 700.0 K\n",
      "    Keff = 1.44126 +/- 0.00287\n",
      "Temperature = 800.0 K\n",
      "    Keff = 1.44358 +/- 0.00265\n",
      "Temperature = 900.0 K\n",
      "    Keff = 1.44238 +/- 0.00270\n",
      "Temperature = 1000.0 K\n",
      "    Keff = 1.43980 +/- 0.00290\n",
      "Temperature = 1100.0 K\n",
      "    Keff = 1.43853 +/- 0.00255\n"
     ]
    }
   ],
   "source": [
    "clean_previous_output()\n",
    "temperatures = np.arange(300, 1200, 100)\n",
    "keffs = []\n",
    "std_devs = []\n",
    "batches = 150\n",
    "for temp in temperatures:\n",
    "    print(\"Temperature = {:.1f} K\".format(temp))\n",
    "    mats = make_materials(fuel_temperature=temp)\n",
    "    make_geometry(materials=mats)\n",
    "    make_settings(batches=batches, particles=nparticles)\n",
    "    openmc.run(threads=nthreads, output=False)\n",
    "    sp = openmc.StatePoint('statepoint.' + str(batches) + '.h5')\n",
    "    keffs.append(sp.keff.nominal_value)\n",
    "    std_devs.append(sp.keff.std_dev)\n",
    "    print(\"    Keff = {:.5f} +/- {:.5f}\".format(sp.keff.nominal_value, sp.keff.std_dev))\n",
    "    sp.close()"
   ]
  },
  {
   "cell_type": "markdown",
   "id": "9f42a124",
   "metadata": {},
   "source": [
    "Plotting the results"
   ]
  },
  {
   "cell_type": "code",
   "execution_count": 22,
   "id": "2ab5eed9",
   "metadata": {},
   "outputs": [
    {
     "data": {
      "text/plain": [
       "<ErrorbarContainer object of 3 artists>"
      ]
     },
     "execution_count": 22,
     "metadata": {},
     "output_type": "execute_result"
    },
    {
     "data": {
      "image/png": "[encoded data removed]",
      "text/plain": [
       "<Figure size 640x480 with 1 Axes>"
      ]
     },
     "metadata": {},
     "output_type": "display_data"
    }
   ],
   "source": [
    "keffs = np.array(keffs)\n",
    "std_devs = np.array(std_devs)\n",
    "plt.errorbar(temperatures, keffs, yerr=2*std_devs)"
   ]
  }
 ],
 "metadata": {
  "kernelspec": {
   "display_name": "openmc",
   "language": "python",
   "name": "openmc"
  },
  "language_info": {
   "codemirror_mode": {
    "name": "ipython",
    "version": 3
   },
   "file_extension": ".py",
   "mimetype": "text/x-python",
   "name": "python",
   "nbconvert_exporter": "python",
   "pygments_lexer": "ipython3",
   "version": "3.11.8"
  }
 },
 "nbformat": 4,
 "nbformat_minor": 5
}
