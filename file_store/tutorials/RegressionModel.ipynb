{
 "cells": [
  {
   "cell_type": "code",
   "execution_count": 1,
   "metadata": {
    "ExecuteTime": {
     "end_time": "2023-12-06T17:10:24.607105Z",
     "start_time": "2023-12-06T17:10:23.080122Z"
    }
   },
   "outputs": [],
   "source": [
    "import pandas as pd\n",
    "import matplotlib.pyplot as plt\n",
    "from sklearn.model_selection import train_test_split\n",
    "from sklearn.neural_network import MLPRegressor\n",
    "from sklearn.model_selection import cross_val_score"
   ],
   "id": "300359aa74f33f2d"
  },
  {
   "cell_type": "markdown",
   "metadata": {},
   "source": [
    "Reading data set"
   ],
   "id": "d8af1864b1f8c052"
  },
  {
   "cell_type": "code",
   "execution_count": 2,
   "metadata": {
    "ExecuteTime": {
     "end_time": "2023-12-06T17:10:24.615306Z",
     "start_time": "2023-12-06T17:10:24.608036Z"
    }
   },
   "outputs": [],
   "source": [
    "df = pd.read_csv(\"pwr_cell_dataset_clean_3k.csv\")"
   ],
   "id": "44ddb679d047dc3d"
  },
  {
   "cell_type": "code",
   "execution_count": 3,
   "metadata": {
    "ExecuteTime": {
     "end_time": "2023-12-06T17:10:24.630825Z",
     "start_time": "2023-12-06T17:10:24.616603Z"
    }
   },
   "outputs": [
    {
     "data": {
      "text/plain": "      Enrichment        FuelT      WaterT     Pitch     FuelR    WaterD  \\\n0      24.430910   664.782614  567.925325  1.642314  0.714294  0.976810   \n1      82.280322  1363.900826  501.600781  1.379222  0.370878  0.697496   \n2      19.167943  1460.183440  334.792231  1.906882  0.695364  0.877380   \n3      20.088497  1175.168704  493.911830  0.735232  0.225556  0.830257   \n4      86.675023  1237.672361  597.014917  1.158495  0.221872  0.905299   \n...          ...          ...         ...       ...       ...       ...   \n2698   77.364460   587.946109  350.375222  0.879498  0.358961  0.809106   \n2699   28.614898   928.516622  316.549909  1.521848  0.420101  0.785937   \n2700   12.675710   554.424395  489.148266  1.269696  0.526585  0.652849   \n2701   55.231024   657.007493  582.701163  0.666839  0.226408  0.921731   \n2702   56.768920  1476.074673  565.120260  1.389504  0.501724  0.777781   \n\n          FuelD      Keff   Std_dev  \n0      9.600968  1.507987  0.000323  \n1     10.205289  1.746744  0.000264  \n2     10.258945  1.541072  0.000356  \n3     10.246023  1.515049  0.000410  \n4     10.250478  1.802780  0.000263  \n...         ...       ...       ...  \n2698  10.340870  1.832681  0.000221  \n2699   9.639033  1.671429  0.000353  \n2700   9.690261  1.328700  0.000387  \n2701   9.861622  1.641267  0.000269  \n2702  10.497132  1.675785  0.000280  \n\n[2703 rows x 9 columns]",
      "text/html": "<div>\n<style scoped>\n    .dataframe tbody tr th:only-of-type {\n        vertical-align: middle;\n    }\n\n    .dataframe tbody tr th {\n        vertical-align: top;\n    }\n\n    .dataframe thead th {\n        text-align: right;\n    }\n</style>\n<table border=\"1\" class=\"dataframe\">\n  <thead>\n    <tr style=\"text-align: right;\">\n      <th></th>\n      <th>Enrichment</th>\n      <th>FuelT</th>\n      <th>WaterT</th>\n      <th>Pitch</th>\n      <th>FuelR</th>\n      <th>WaterD</th>\n      <th>FuelD</th>\n      <th>Keff</th>\n      <th>Std_dev</th>\n    </tr>\n  </thead>\n  <tbody>\n    <tr>\n      <th>0</th>\n      <td>24.430910</td>\n      <td>664.782614</td>\n      <td>567.925325</td>\n      <td>1.642314</td>\n      <td>0.714294</td>\n      <td>0.976810</td>\n      <td>9.600968</td>\n      <td>1.507987</td>\n      <td>0.000323</td>\n    </tr>\n    <tr>\n      <th>1</th>\n      <td>82.280322</td>\n      <td>1363.900826</td>\n      <td>501.600781</td>\n      <td>1.379222</td>\n      <td>0.370878</td>\n      <td>0.697496</td>\n      <td>10.205289</td>\n      <td>1.746744</td>\n      <td>0.000264</td>\n    </tr>\n    <tr>\n      <th>2</th>\n      <td>19.167943</td>\n      <td>1460.183440</td>\n      <td>334.792231</td>\n      <td>1.906882</td>\n      <td>0.695364</td>\n      <td>0.877380</td>\n      <td>10.258945</td>\n      <td>1.541072</td>\n      <td>0.000356</td>\n    </tr>\n    <tr>\n      <th>3</th>\n      <td>20.088497</td>\n      <td>1175.168704</td>\n      <td>493.911830</td>\n      <td>0.735232</td>\n      <td>0.225556</td>\n      <td>0.830257</td>\n      <td>10.246023</td>\n      <td>1.515049</td>\n      <td>0.000410</td>\n    </tr>\n    <tr>\n      <th>4</th>\n      <td>86.675023</td>\n      <td>1237.672361</td>\n      <td>597.014917</td>\n      <td>1.158495</td>\n      <td>0.221872</td>\n      <td>0.905299</td>\n      <td>10.250478</td>\n      <td>1.802780</td>\n      <td>0.000263</td>\n    </tr>\n    <tr>\n      <th>...</th>\n      <td>...</td>\n      <td>...</td>\n      <td>...</td>\n      <td>...</td>\n      <td>...</td>\n      <td>...</td>\n      <td>...</td>\n      <td>...</td>\n      <td>...</td>\n    </tr>\n    <tr>\n      <th>2698</th>\n      <td>77.364460</td>\n      <td>587.946109</td>\n      <td>350.375222</td>\n      <td>0.879498</td>\n      <td>0.358961</td>\n      <td>0.809106</td>\n      <td>10.340870</td>\n      <td>1.832681</td>\n      <td>0.000221</td>\n    </tr>\n    <tr>\n      <th>2699</th>\n      <td>28.614898</td>\n      <td>928.516622</td>\n      <td>316.549909</td>\n      <td>1.521848</td>\n      <td>0.420101</td>\n      <td>0.785937</td>\n      <td>9.639033</td>\n      <td>1.671429</td>\n      <td>0.000353</td>\n    </tr>\n    <tr>\n      <th>2700</th>\n      <td>12.675710</td>\n      <td>554.424395</td>\n      <td>489.148266</td>\n      <td>1.269696</td>\n      <td>0.526585</td>\n      <td>0.652849</td>\n      <td>9.690261</td>\n      <td>1.328700</td>\n      <td>0.000387</td>\n    </tr>\n    <tr>\n      <th>2701</th>\n      <td>55.231024</td>\n      <td>657.007493</td>\n      <td>582.701163</td>\n      <td>0.666839</td>\n      <td>0.226408</td>\n      <td>0.921731</td>\n      <td>9.861622</td>\n      <td>1.641267</td>\n      <td>0.000269</td>\n    </tr>\n    <tr>\n      <th>2702</th>\n      <td>56.768920</td>\n      <td>1476.074673</td>\n      <td>565.120260</td>\n      <td>1.389504</td>\n      <td>0.501724</td>\n      <td>0.777781</td>\n      <td>10.497132</td>\n      <td>1.675785</td>\n      <td>0.000280</td>\n    </tr>\n  </tbody>\n</table>\n<p>2703 rows × 9 columns</p>\n</div>"
     },
     "execution_count": 3,
     "metadata": {},
     "output_type": "execute_result"
    }
   ],
   "source": [
    "df"
   ],
   "id": "80dc9e8fa8b13803"
  },
  {
   "cell_type": "markdown",
   "metadata": {},
   "source": [
    "Short information about the dataset"
   ],
   "id": "e2ead18081f52689"
  },
  {
   "cell_type": "code",
   "execution_count": 4,
   "metadata": {
    "ExecuteTime": {
     "end_time": "2023-12-06T17:10:24.661748Z",
     "start_time": "2023-12-06T17:10:24.626496Z"
    }
   },
   "outputs": [
    {
     "name": "stdout",
     "output_type": "stream",
     "text": [
      "<class 'pandas.core.frame.DataFrame'>\n",
      "RangeIndex: 2703 entries, 0 to 2702\n",
      "Data columns (total 9 columns):\n",
      " #   Column      Non-Null Count  Dtype  \n",
      "---  ------      --------------  -----  \n",
      " 0   Enrichment  2703 non-null   float64\n",
      " 1   FuelT       2703 non-null   float64\n",
      " 2   WaterT      2703 non-null   float64\n",
      " 3   Pitch       2703 non-null   float64\n",
      " 4   FuelR       2703 non-null   float64\n",
      " 5   WaterD      2703 non-null   float64\n",
      " 6   FuelD       2703 non-null   float64\n",
      " 7   Keff        2703 non-null   float64\n",
      " 8   Std_dev     2703 non-null   float64\n",
      "dtypes: float64(9)\n",
      "memory usage: 190.2 KB\n"
     ]
    }
   ],
   "source": [
    "df.info()"
   ],
   "id": "53d5d0e6053829bd"
  },
  {
   "cell_type": "markdown",
   "metadata": {},
   "source": [
    "Some statistics"
   ],
   "id": "b303f2af073714ab"
  },
  {
   "cell_type": "code",
   "execution_count": 5,
   "metadata": {
    "ExecuteTime": {
     "end_time": "2023-12-06T17:10:24.845092Z",
     "start_time": "2023-12-06T17:10:24.634737Z"
    }
   },
   "outputs": [
    {
     "data": {
      "text/plain": "        Enrichment        FuelT       WaterT        Pitch        FuelR  \\\ncount  2703.000000  2703.000000  2703.000000  2703.000000  2703.000000   \nmean     45.368827  1121.681313   439.081266     1.290129     0.382388   \nstd      25.932962   388.610045    97.794341     0.403002     0.155326   \nmin       0.701673   288.603154   274.110729     0.600455     0.200001   \n25%      22.521960   791.021642   354.243819     0.949844     0.254298   \n50%      45.490206  1131.192864   438.200578     1.272138     0.337028   \n75%      67.507247  1449.502605   523.556560     1.636711     0.476663   \nmax      89.920130  1799.958886   609.813585     1.999883     0.907305   \n\n            WaterD        FuelD         Keff      Std_dev  \ncount  2703.000000  2703.000000  2703.000000  2703.000000  \nmean      0.804533     9.997916     1.636058     0.000307  \nstd       0.112651     0.291059     0.166917     0.000056  \nmin       0.610116     9.500037     0.626834     0.000170  \n25%       0.708377     9.738932     1.574372     0.000265  \n50%       0.805054    10.005001     1.686159     0.000300  \n75%       0.902369    10.245833     1.749950     0.000343  \nmax       0.999883    10.499938     1.952352     0.000487  ",
      "text/html": "<div>\n<style scoped>\n    .dataframe tbody tr th:only-of-type {\n        vertical-align: middle;\n    }\n\n    .dataframe tbody tr th {\n        vertical-align: top;\n    }\n\n    .dataframe thead th {\n        text-align: right;\n    }\n</style>\n<table border=\"1\" class=\"dataframe\">\n  <thead>\n    <tr style=\"text-align: right;\">\n      <th></th>\n      <th>Enrichment</th>\n      <th>FuelT</th>\n      <th>WaterT</th>\n      <th>Pitch</th>\n      <th>FuelR</th>\n      <th>WaterD</th>\n      <th>FuelD</th>\n      <th>Keff</th>\n      <th>Std_dev</th>\n    </tr>\n  </thead>\n  <tbody>\n    <tr>\n      <th>count</th>\n      <td>2703.000000</td>\n      <td>2703.000000</td>\n      <td>2703.000000</td>\n      <td>2703.000000</td>\n      <td>2703.000000</td>\n      <td>2703.000000</td>\n      <td>2703.000000</td>\n      <td>2703.000000</td>\n      <td>2703.000000</td>\n    </tr>\n    <tr>\n      <th>mean</th>\n      <td>45.368827</td>\n      <td>1121.681313</td>\n      <td>439.081266</td>\n      <td>1.290129</td>\n      <td>0.382388</td>\n      <td>0.804533</td>\n      <td>9.997916</td>\n      <td>1.636058</td>\n      <td>0.000307</td>\n    </tr>\n    <tr>\n      <th>std</th>\n      <td>25.932962</td>\n      <td>388.610045</td>\n      <td>97.794341</td>\n      <td>0.403002</td>\n      <td>0.155326</td>\n      <td>0.112651</td>\n      <td>0.291059</td>\n      <td>0.166917</td>\n      <td>0.000056</td>\n    </tr>\n    <tr>\n      <th>min</th>\n      <td>0.701673</td>\n      <td>288.603154</td>\n      <td>274.110729</td>\n      <td>0.600455</td>\n      <td>0.200001</td>\n      <td>0.610116</td>\n      <td>9.500037</td>\n      <td>0.626834</td>\n      <td>0.000170</td>\n    </tr>\n    <tr>\n      <th>25%</th>\n      <td>22.521960</td>\n      <td>791.021642</td>\n      <td>354.243819</td>\n      <td>0.949844</td>\n      <td>0.254298</td>\n      <td>0.708377</td>\n      <td>9.738932</td>\n      <td>1.574372</td>\n      <td>0.000265</td>\n    </tr>\n    <tr>\n      <th>50%</th>\n      <td>45.490206</td>\n      <td>1131.192864</td>\n      <td>438.200578</td>\n      <td>1.272138</td>\n      <td>0.337028</td>\n      <td>0.805054</td>\n      <td>10.005001</td>\n      <td>1.686159</td>\n      <td>0.000300</td>\n    </tr>\n    <tr>\n      <th>75%</th>\n      <td>67.507247</td>\n      <td>1449.502605</td>\n      <td>523.556560</td>\n      <td>1.636711</td>\n      <td>0.476663</td>\n      <td>0.902369</td>\n      <td>10.245833</td>\n      <td>1.749950</td>\n      <td>0.000343</td>\n    </tr>\n    <tr>\n      <th>max</th>\n      <td>89.920130</td>\n      <td>1799.958886</td>\n      <td>609.813585</td>\n      <td>1.999883</td>\n      <td>0.907305</td>\n      <td>0.999883</td>\n      <td>10.499938</td>\n      <td>1.952352</td>\n      <td>0.000487</td>\n    </tr>\n  </tbody>\n</table>\n</div>"
     },
     "execution_count": 5,
     "metadata": {},
     "output_type": "execute_result"
    }
   ],
   "source": [
    "df.describe()"
   ],
   "id": "de7be400fd9898e6"
  },
  {
   "cell_type": "code",
   "execution_count": 6,
   "metadata": {
    "ExecuteTime": {
     "end_time": "2023-12-06T17:10:24.846811Z",
     "start_time": "2023-12-06T17:10:24.651071Z"
    }
   },
   "outputs": [
    {
     "data": {
      "text/plain": "   Enrichment        FuelT      WaterT     Pitch     FuelR    WaterD  \\\n0   24.430910   664.782614  567.925325  1.642314  0.714294  0.976810   \n1   82.280322  1363.900826  501.600781  1.379222  0.370878  0.697496   \n2   19.167943  1460.183440  334.792231  1.906882  0.695364  0.877380   \n3   20.088497  1175.168704  493.911830  0.735232  0.225556  0.830257   \n4   86.675023  1237.672361  597.014917  1.158495  0.221872  0.905299   \n\n       FuelD      Keff   Std_dev  \n0   9.600968  1.507987  0.000323  \n1  10.205289  1.746744  0.000264  \n2  10.258945  1.541072  0.000356  \n3  10.246023  1.515049  0.000410  \n4  10.250478  1.802780  0.000263  ",
      "text/html": "<div>\n<style scoped>\n    .dataframe tbody tr th:only-of-type {\n        vertical-align: middle;\n    }\n\n    .dataframe tbody tr th {\n        vertical-align: top;\n    }\n\n    .dataframe thead th {\n        text-align: right;\n    }\n</style>\n<table border=\"1\" class=\"dataframe\">\n  <thead>\n    <tr style=\"text-align: right;\">\n      <th></th>\n      <th>Enrichment</th>\n      <th>FuelT</th>\n      <th>WaterT</th>\n      <th>Pitch</th>\n      <th>FuelR</th>\n      <th>WaterD</th>\n      <th>FuelD</th>\n      <th>Keff</th>\n      <th>Std_dev</th>\n    </tr>\n  </thead>\n  <tbody>\n    <tr>\n      <th>0</th>\n      <td>24.430910</td>\n      <td>664.782614</td>\n      <td>567.925325</td>\n      <td>1.642314</td>\n      <td>0.714294</td>\n      <td>0.976810</td>\n      <td>9.600968</td>\n      <td>1.507987</td>\n      <td>0.000323</td>\n    </tr>\n    <tr>\n      <th>1</th>\n      <td>82.280322</td>\n      <td>1363.900826</td>\n      <td>501.600781</td>\n      <td>1.379222</td>\n      <td>0.370878</td>\n      <td>0.697496</td>\n      <td>10.205289</td>\n      <td>1.746744</td>\n      <td>0.000264</td>\n    </tr>\n    <tr>\n      <th>2</th>\n      <td>19.167943</td>\n      <td>1460.183440</td>\n      <td>334.792231</td>\n      <td>1.906882</td>\n      <td>0.695364</td>\n      <td>0.877380</td>\n      <td>10.258945</td>\n      <td>1.541072</td>\n      <td>0.000356</td>\n    </tr>\n    <tr>\n      <th>3</th>\n      <td>20.088497</td>\n      <td>1175.168704</td>\n      <td>493.911830</td>\n      <td>0.735232</td>\n      <td>0.225556</td>\n      <td>0.830257</td>\n      <td>10.246023</td>\n      <td>1.515049</td>\n      <td>0.000410</td>\n    </tr>\n    <tr>\n      <th>4</th>\n      <td>86.675023</td>\n      <td>1237.672361</td>\n      <td>597.014917</td>\n      <td>1.158495</td>\n      <td>0.221872</td>\n      <td>0.905299</td>\n      <td>10.250478</td>\n      <td>1.802780</td>\n      <td>0.000263</td>\n    </tr>\n  </tbody>\n</table>\n</div>"
     },
     "execution_count": 6,
     "metadata": {},
     "output_type": "execute_result"
    }
   ],
   "source": [
    "df.head()"
   ],
   "id": "ac4782fba1b0e7c2"
  },
  {
   "cell_type": "markdown",
   "metadata": {},
   "source": [
    "Extraction of features and lables from the data set"
   ],
   "id": "b5af3dbdc772d991"
  },
  {
   "cell_type": "code",
   "execution_count": 7,
   "metadata": {
    "ExecuteTime": {
     "end_time": "2023-12-06T17:10:24.847122Z",
     "start_time": "2023-12-06T17:10:24.655808Z"
    }
   },
   "outputs": [],
   "source": [
    "features = df.drop(['Keff', 'Std_dev'], axis=1)\n",
    "labels = df['Keff']"
   ],
   "id": "2be12a3bdd0c153f"
  },
  {
   "cell_type": "code",
   "execution_count": 8,
   "metadata": {
    "ExecuteTime": {
     "end_time": "2023-12-06T17:10:24.865793Z",
     "start_time": "2023-12-06T17:10:24.657317Z"
    }
   },
   "outputs": [
    {
     "data": {
      "text/plain": "      Enrichment        FuelT      WaterT     Pitch     FuelR    WaterD  \\\n0      24.430910   664.782614  567.925325  1.642314  0.714294  0.976810   \n1      82.280322  1363.900826  501.600781  1.379222  0.370878  0.697496   \n2      19.167943  1460.183440  334.792231  1.906882  0.695364  0.877380   \n3      20.088497  1175.168704  493.911830  0.735232  0.225556  0.830257   \n4      86.675023  1237.672361  597.014917  1.158495  0.221872  0.905299   \n...          ...          ...         ...       ...       ...       ...   \n2698   77.364460   587.946109  350.375222  0.879498  0.358961  0.809106   \n2699   28.614898   928.516622  316.549909  1.521848  0.420101  0.785937   \n2700   12.675710   554.424395  489.148266  1.269696  0.526585  0.652849   \n2701   55.231024   657.007493  582.701163  0.666839  0.226408  0.921731   \n2702   56.768920  1476.074673  565.120260  1.389504  0.501724  0.777781   \n\n          FuelD  \n0      9.600968  \n1     10.205289  \n2     10.258945  \n3     10.246023  \n4     10.250478  \n...         ...  \n2698  10.340870  \n2699   9.639033  \n2700   9.690261  \n2701   9.861622  \n2702  10.497132  \n\n[2703 rows x 7 columns]",
      "text/html": "<div>\n<style scoped>\n    .dataframe tbody tr th:only-of-type {\n        vertical-align: middle;\n    }\n\n    .dataframe tbody tr th {\n        vertical-align: top;\n    }\n\n    .dataframe thead th {\n        text-align: right;\n    }\n</style>\n<table border=\"1\" class=\"dataframe\">\n  <thead>\n    <tr style=\"text-align: right;\">\n      <th></th>\n      <th>Enrichment</th>\n      <th>FuelT</th>\n      <th>WaterT</th>\n      <th>Pitch</th>\n      <th>FuelR</th>\n      <th>WaterD</th>\n      <th>FuelD</th>\n    </tr>\n  </thead>\n  <tbody>\n    <tr>\n      <th>0</th>\n      <td>24.430910</td>\n      <td>664.782614</td>\n      <td>567.925325</td>\n      <td>1.642314</td>\n      <td>0.714294</td>\n      <td>0.976810</td>\n      <td>9.600968</td>\n    </tr>\n    <tr>\n      <th>1</th>\n      <td>82.280322</td>\n      <td>1363.900826</td>\n      <td>501.600781</td>\n      <td>1.379222</td>\n      <td>0.370878</td>\n      <td>0.697496</td>\n      <td>10.205289</td>\n    </tr>\n    <tr>\n      <th>2</th>\n      <td>19.167943</td>\n      <td>1460.183440</td>\n      <td>334.792231</td>\n      <td>1.906882</td>\n      <td>0.695364</td>\n      <td>0.877380</td>\n      <td>10.258945</td>\n    </tr>\n    <tr>\n      <th>3</th>\n      <td>20.088497</td>\n      <td>1175.168704</td>\n      <td>493.911830</td>\n      <td>0.735232</td>\n      <td>0.225556</td>\n      <td>0.830257</td>\n      <td>10.246023</td>\n    </tr>\n    <tr>\n      <th>4</th>\n      <td>86.675023</td>\n      <td>1237.672361</td>\n      <td>597.014917</td>\n      <td>1.158495</td>\n      <td>0.221872</td>\n      <td>0.905299</td>\n      <td>10.250478</td>\n    </tr>\n    <tr>\n      <th>...</th>\n      <td>...</td>\n      <td>...</td>\n      <td>...</td>\n      <td>...</td>\n      <td>...</td>\n      <td>...</td>\n      <td>...</td>\n    </tr>\n    <tr>\n      <th>2698</th>\n      <td>77.364460</td>\n      <td>587.946109</td>\n      <td>350.375222</td>\n      <td>0.879498</td>\n      <td>0.358961</td>\n      <td>0.809106</td>\n      <td>10.340870</td>\n    </tr>\n    <tr>\n      <th>2699</th>\n      <td>28.614898</td>\n      <td>928.516622</td>\n      <td>316.549909</td>\n      <td>1.521848</td>\n      <td>0.420101</td>\n      <td>0.785937</td>\n      <td>9.639033</td>\n    </tr>\n    <tr>\n      <th>2700</th>\n      <td>12.675710</td>\n      <td>554.424395</td>\n      <td>489.148266</td>\n      <td>1.269696</td>\n      <td>0.526585</td>\n      <td>0.652849</td>\n      <td>9.690261</td>\n    </tr>\n    <tr>\n      <th>2701</th>\n      <td>55.231024</td>\n      <td>657.007493</td>\n      <td>582.701163</td>\n      <td>0.666839</td>\n      <td>0.226408</td>\n      <td>0.921731</td>\n      <td>9.861622</td>\n    </tr>\n    <tr>\n      <th>2702</th>\n      <td>56.768920</td>\n      <td>1476.074673</td>\n      <td>565.120260</td>\n      <td>1.389504</td>\n      <td>0.501724</td>\n      <td>0.777781</td>\n      <td>10.497132</td>\n    </tr>\n  </tbody>\n</table>\n<p>2703 rows × 7 columns</p>\n</div>"
     },
     "execution_count": 8,
     "metadata": {},
     "output_type": "execute_result"
    }
   ],
   "source": [
    "features"
   ],
   "id": "a9160b2eefa5d32a"
  },
  {
   "cell_type": "code",
   "execution_count": 9,
   "metadata": {
    "scrolled": true,
    "ExecuteTime": {
     "end_time": "2023-12-06T17:10:24.867319Z",
     "start_time": "2023-12-06T17:10:24.663921Z"
    }
   },
   "outputs": [
    {
     "data": {
      "text/plain": "0       1.507987\n1       1.746744\n2       1.541072\n3       1.515049\n4       1.802780\n          ...   \n2698    1.832681\n2699    1.671429\n2700    1.328700\n2701    1.641267\n2702    1.675785\nName: Keff, Length: 2703, dtype: float64"
     },
     "execution_count": 9,
     "metadata": {},
     "output_type": "execute_result"
    }
   ],
   "source": [
    "labels"
   ],
   "id": "5266917ee4cca1ed"
  },
  {
   "cell_type": "markdown",
   "metadata": {},
   "source": [
    "Splitting the data set on training and validation data set. We are using training data set for training our model and validation data set for final conclusion on the accuracy of the model."
   ],
   "id": "8d1026889ea4045d"
  },
  {
   "cell_type": "code",
   "execution_count": 9,
   "outputs": [],
   "source": [],
   "metadata": {
    "collapsed": false,
    "ExecuteTime": {
     "end_time": "2023-12-06T17:10:24.879658Z",
     "start_time": "2023-12-06T17:10:24.666846Z"
    }
   },
   "id": "3f7ebf99ccb519a"
  },
  {
   "cell_type": "code",
   "execution_count": 10,
   "metadata": {
    "ExecuteTime": {
     "end_time": "2023-12-06T17:10:24.879987Z",
     "start_time": "2023-12-06T17:10:24.671449Z"
    }
   },
   "outputs": [],
   "source": [
    "x_train, x_val, y_train, y_val = train_test_split(features, labels, test_size=0.2)"
   ],
   "id": "850bd32e0666973c"
  },
  {
   "cell_type": "code",
   "execution_count": 11,
   "metadata": {
    "ExecuteTime": {
     "end_time": "2023-12-06T17:10:24.893892Z",
     "start_time": "2023-12-06T17:10:24.678571Z"
    }
   },
   "outputs": [
    {
     "data": {
      "text/plain": "      Enrichment        FuelT      WaterT     Pitch     FuelR    WaterD  \\\n2282   82.810092  1459.877123  368.465035  1.807386  0.340127  0.816789   \n1757   76.020315  1649.466550  282.700324  1.391354  0.442863  0.627570   \n1161   79.389829   572.344604  346.041146  1.783535  0.533320  0.974092   \n1314   47.463781  1644.799945  348.535316  0.674035  0.247692  0.809293   \n1088   30.148687  1425.548714  413.276581  0.600455  0.208783  0.660302   \n...          ...          ...         ...       ...       ...       ...   \n2299   79.878631  1218.288742  585.801693  1.226976  0.514636  0.652441   \n522    58.826745   877.825794  526.962878  1.284233  0.208599  0.660078   \n1664   29.455036  1732.405984  396.159647  1.722472  0.456321  0.637148   \n1368   37.794753   923.888744  409.822037  1.486550  0.644276  0.851950   \n590    75.798707   607.683148  517.293768  0.858229  0.219980  0.874184   \n\n          FuelD  \n2282   9.924448  \n1757   9.788424  \n1161   9.535983  \n1314   9.804986  \n1088   9.680906  \n...         ...  \n2299   9.657628  \n522   10.202295  \n1664  10.437192  \n1368  10.303713  \n590    9.501530  \n\n[2162 rows x 7 columns]",
      "text/html": "<div>\n<style scoped>\n    .dataframe tbody tr th:only-of-type {\n        vertical-align: middle;\n    }\n\n    .dataframe tbody tr th {\n        vertical-align: top;\n    }\n\n    .dataframe thead th {\n        text-align: right;\n    }\n</style>\n<table border=\"1\" class=\"dataframe\">\n  <thead>\n    <tr style=\"text-align: right;\">\n      <th></th>\n      <th>Enrichment</th>\n      <th>FuelT</th>\n      <th>WaterT</th>\n      <th>Pitch</th>\n      <th>FuelR</th>\n      <th>WaterD</th>\n      <th>FuelD</th>\n    </tr>\n  </thead>\n  <tbody>\n    <tr>\n      <th>2282</th>\n      <td>82.810092</td>\n      <td>1459.877123</td>\n      <td>368.465035</td>\n      <td>1.807386</td>\n      <td>0.340127</td>\n      <td>0.816789</td>\n      <td>9.924448</td>\n    </tr>\n    <tr>\n      <th>1757</th>\n      <td>76.020315</td>\n      <td>1649.466550</td>\n      <td>282.700324</td>\n      <td>1.391354</td>\n      <td>0.442863</td>\n      <td>0.627570</td>\n      <td>9.788424</td>\n    </tr>\n    <tr>\n      <th>1161</th>\n      <td>79.389829</td>\n      <td>572.344604</td>\n      <td>346.041146</td>\n      <td>1.783535</td>\n      <td>0.533320</td>\n      <td>0.974092</td>\n      <td>9.535983</td>\n    </tr>\n    <tr>\n      <th>1314</th>\n      <td>47.463781</td>\n      <td>1644.799945</td>\n      <td>348.535316</td>\n      <td>0.674035</td>\n      <td>0.247692</td>\n      <td>0.809293</td>\n      <td>9.804986</td>\n    </tr>\n    <tr>\n      <th>1088</th>\n      <td>30.148687</td>\n      <td>1425.548714</td>\n      <td>413.276581</td>\n      <td>0.600455</td>\n      <td>0.208783</td>\n      <td>0.660302</td>\n      <td>9.680906</td>\n    </tr>\n    <tr>\n      <th>...</th>\n      <td>...</td>\n      <td>...</td>\n      <td>...</td>\n      <td>...</td>\n      <td>...</td>\n      <td>...</td>\n      <td>...</td>\n    </tr>\n    <tr>\n      <th>2299</th>\n      <td>79.878631</td>\n      <td>1218.288742</td>\n      <td>585.801693</td>\n      <td>1.226976</td>\n      <td>0.514636</td>\n      <td>0.652441</td>\n      <td>9.657628</td>\n    </tr>\n    <tr>\n      <th>522</th>\n      <td>58.826745</td>\n      <td>877.825794</td>\n      <td>526.962878</td>\n      <td>1.284233</td>\n      <td>0.208599</td>\n      <td>0.660078</td>\n      <td>10.202295</td>\n    </tr>\n    <tr>\n      <th>1664</th>\n      <td>29.455036</td>\n      <td>1732.405984</td>\n      <td>396.159647</td>\n      <td>1.722472</td>\n      <td>0.456321</td>\n      <td>0.637148</td>\n      <td>10.437192</td>\n    </tr>\n    <tr>\n      <th>1368</th>\n      <td>37.794753</td>\n      <td>923.888744</td>\n      <td>409.822037</td>\n      <td>1.486550</td>\n      <td>0.644276</td>\n      <td>0.851950</td>\n      <td>10.303713</td>\n    </tr>\n    <tr>\n      <th>590</th>\n      <td>75.798707</td>\n      <td>607.683148</td>\n      <td>517.293768</td>\n      <td>0.858229</td>\n      <td>0.219980</td>\n      <td>0.874184</td>\n      <td>9.501530</td>\n    </tr>\n  </tbody>\n</table>\n<p>2162 rows × 7 columns</p>\n</div>"
     },
     "execution_count": 11,
     "metadata": {},
     "output_type": "execute_result"
    }
   ],
   "source": [
    "x_train"
   ],
   "id": "e20dff7edcb1adf1"
  },
  {
   "cell_type": "code",
   "execution_count": 12,
   "metadata": {
    "ExecuteTime": {
     "end_time": "2023-12-06T17:10:24.944104Z",
     "start_time": "2023-12-06T17:10:24.682309Z"
    }
   },
   "outputs": [
    {
     "data": {
      "text/plain": "2282    1.798363\n1757    1.728843\n1161    1.778479\n1314    1.599539\n1088    1.468137\n          ...   \n2299    1.856498\n522     1.787179\n1664    1.646130\n1368    1.606794\n590     1.737817\nName: Keff, Length: 2162, dtype: float64"
     },
     "execution_count": 12,
     "metadata": {},
     "output_type": "execute_result"
    }
   ],
   "source": [
    "y_train"
   ],
   "id": "32d688aee6050c8e"
  },
  {
   "cell_type": "code",
   "execution_count": 13,
   "metadata": {
    "ExecuteTime": {
     "end_time": "2023-12-06T17:10:24.945098Z",
     "start_time": "2023-12-06T17:10:24.689351Z"
    }
   },
   "outputs": [
    {
     "data": {
      "text/plain": "      Enrichment        FuelT      WaterT     Pitch     FuelR    WaterD  \\\n882    82.615131  1353.311343  507.487305  1.456090  0.399919  0.678665   \n1401   70.179255   663.690476  284.871114  1.453152  0.373774  0.916626   \n1897   30.695686  1718.021667  533.516355  0.655350  0.202083  0.687643   \n2595   30.051224  1219.762208  357.510131  1.895985  0.697868  0.804108   \n2475   73.072034  1178.836124  284.324131  0.710387  0.219032  0.669909   \n...          ...          ...         ...       ...       ...       ...   \n2000   84.468566   909.232079  457.824367  0.957119  0.203713  0.632561   \n605    40.412754  1762.306081  424.780991  1.994455  0.443370  0.757240   \n2273   20.428703  1293.130101  356.895041  1.139796  0.337750  0.688161   \n565    83.646345   523.605248  276.090847  1.833420  0.387456  0.745917   \n4      86.675023  1237.672361  597.014917  1.158495  0.221872  0.905299   \n\n          FuelD  \n882   10.115620  \n1401   9.537794  \n1897  10.109198  \n2595   9.839416  \n2475  10.444335  \n...         ...  \n2000   9.566078  \n605   10.194346  \n2273   9.553896  \n565    9.518478  \n4     10.250478  \n\n[541 rows x 7 columns]",
      "text/html": "<div>\n<style scoped>\n    .dataframe tbody tr th:only-of-type {\n        vertical-align: middle;\n    }\n\n    .dataframe tbody tr th {\n        vertical-align: top;\n    }\n\n    .dataframe thead th {\n        text-align: right;\n    }\n</style>\n<table border=\"1\" class=\"dataframe\">\n  <thead>\n    <tr style=\"text-align: right;\">\n      <th></th>\n      <th>Enrichment</th>\n      <th>FuelT</th>\n      <th>WaterT</th>\n      <th>Pitch</th>\n      <th>FuelR</th>\n      <th>WaterD</th>\n      <th>FuelD</th>\n    </tr>\n  </thead>\n  <tbody>\n    <tr>\n      <th>882</th>\n      <td>82.615131</td>\n      <td>1353.311343</td>\n      <td>507.487305</td>\n      <td>1.456090</td>\n      <td>0.399919</td>\n      <td>0.678665</td>\n      <td>10.115620</td>\n    </tr>\n    <tr>\n      <th>1401</th>\n      <td>70.179255</td>\n      <td>663.690476</td>\n      <td>284.871114</td>\n      <td>1.453152</td>\n      <td>0.373774</td>\n      <td>0.916626</td>\n      <td>9.537794</td>\n    </tr>\n    <tr>\n      <th>1897</th>\n      <td>30.695686</td>\n      <td>1718.021667</td>\n      <td>533.516355</td>\n      <td>0.655350</td>\n      <td>0.202083</td>\n      <td>0.687643</td>\n      <td>10.109198</td>\n    </tr>\n    <tr>\n      <th>2595</th>\n      <td>30.051224</td>\n      <td>1219.762208</td>\n      <td>357.510131</td>\n      <td>1.895985</td>\n      <td>0.697868</td>\n      <td>0.804108</td>\n      <td>9.839416</td>\n    </tr>\n    <tr>\n      <th>2475</th>\n      <td>73.072034</td>\n      <td>1178.836124</td>\n      <td>284.324131</td>\n      <td>0.710387</td>\n      <td>0.219032</td>\n      <td>0.669909</td>\n      <td>10.444335</td>\n    </tr>\n    <tr>\n      <th>...</th>\n      <td>...</td>\n      <td>...</td>\n      <td>...</td>\n      <td>...</td>\n      <td>...</td>\n      <td>...</td>\n      <td>...</td>\n    </tr>\n    <tr>\n      <th>2000</th>\n      <td>84.468566</td>\n      <td>909.232079</td>\n      <td>457.824367</td>\n      <td>0.957119</td>\n      <td>0.203713</td>\n      <td>0.632561</td>\n      <td>9.566078</td>\n    </tr>\n    <tr>\n      <th>605</th>\n      <td>40.412754</td>\n      <td>1762.306081</td>\n      <td>424.780991</td>\n      <td>1.994455</td>\n      <td>0.443370</td>\n      <td>0.757240</td>\n      <td>10.194346</td>\n    </tr>\n    <tr>\n      <th>2273</th>\n      <td>20.428703</td>\n      <td>1293.130101</td>\n      <td>356.895041</td>\n      <td>1.139796</td>\n      <td>0.337750</td>\n      <td>0.688161</td>\n      <td>9.553896</td>\n    </tr>\n    <tr>\n      <th>565</th>\n      <td>83.646345</td>\n      <td>523.605248</td>\n      <td>276.090847</td>\n      <td>1.833420</td>\n      <td>0.387456</td>\n      <td>0.745917</td>\n      <td>9.518478</td>\n    </tr>\n    <tr>\n      <th>4</th>\n      <td>86.675023</td>\n      <td>1237.672361</td>\n      <td>597.014917</td>\n      <td>1.158495</td>\n      <td>0.221872</td>\n      <td>0.905299</td>\n      <td>10.250478</td>\n    </tr>\n  </tbody>\n</table>\n<p>541 rows × 7 columns</p>\n</div>"
     },
     "execution_count": 13,
     "metadata": {},
     "output_type": "execute_result"
    }
   ],
   "source": [
    "x_val"
   ],
   "id": "4b753f59ad813faa"
  },
  {
   "cell_type": "code",
   "execution_count": 14,
   "metadata": {
    "ExecuteTime": {
     "end_time": "2023-12-06T17:10:24.945274Z",
     "start_time": "2023-12-06T17:10:24.692288Z"
    }
   },
   "outputs": [
    {
     "data": {
      "text/plain": "882     1.749465\n1401    1.765635\n1897    1.503651\n2595    1.583749\n2475    1.696868\n          ...   \n2000    1.753754\n605     1.736966\n2273    1.564989\n565     1.802880\n4       1.802780\nName: Keff, Length: 541, dtype: float64"
     },
     "execution_count": 14,
     "metadata": {},
     "output_type": "execute_result"
    }
   ],
   "source": [
    "y_val"
   ],
   "id": "f0a4b7ff947ccd02"
  },
  {
   "cell_type": "markdown",
   "metadata": {},
   "source": [
    "Creating ANN model using MLPRegressor class"
   ],
   "id": "18d609442cca3fb9"
  },
  {
   "cell_type": "code",
   "execution_count": 15,
   "metadata": {
    "ExecuteTime": {
     "end_time": "2023-12-06T17:10:24.945624Z",
     "start_time": "2023-12-06T17:10:24.695025Z"
    }
   },
   "outputs": [],
   "source": [
    "model = MLPRegressor(hidden_layer_sizes=(150,100,50,),\n",
    "                     activation='logistic',\n",
    "                     batch_size=100,\n",
    "                     learning_rate='constant',\n",
    "                     learning_rate_init=0.0001,\n",
    "                     early_stopping=True,\n",
    "                     tol=1e-6,\n",
    "                     verbose=True, \n",
    "                     n_iter_no_change=50, \n",
    "                     max_iter=500)"
   ],
   "id": "bfba12a3806e4c06"
  },
  {
   "cell_type": "markdown",
   "metadata": {},
   "source": [
    "Training the model"
   ],
   "id": "20b5803346c7d82a"
  },
  {
   "cell_type": "code",
   "execution_count": 16,
   "metadata": {
    "ExecuteTime": {
     "end_time": "2023-12-06T17:11:12.520876Z",
     "start_time": "2023-12-06T17:10:24.700973Z"
    }
   },
   "outputs": [
    {
     "name": "stdout",
     "output_type": "stream",
     "text": [
      "Iteration 1, loss = 1.41430600\n",
      "Validation score: -77.367538\n",
      "Iteration 2, loss = 1.07139406\n",
      "Validation score: -57.220671\n",
      "Iteration 3, loss = 0.78815600\n",
      "Validation score: -40.982009\n",
      "Iteration 4, loss = 0.56173970\n",
      "Validation score: -28.141176\n",
      "Iteration 5, loss = 0.38513217\n",
      "Validation score: -18.361979\n",
      "Iteration 6, loss = 0.25204647\n",
      "Validation score: -11.245806\n",
      "Iteration 7, loss = 0.15720072\n",
      "Validation score: -6.392330\n",
      "Iteration 8, loss = 0.09526828\n",
      "Validation score: -3.434185\n",
      "Iteration 9, loss = 0.05829583\n",
      "Validation score: -1.761514\n",
      "Iteration 10, loss = 0.03710383\n",
      "Validation score: -0.849677\n",
      "Iteration 11, loss = 0.02554928\n",
      "Validation score: -0.373454\n",
      "Iteration 12, loss = 0.01942652\n",
      "Validation score: -0.143541\n",
      "Iteration 13, loss = 0.01631089\n",
      "Validation score: -0.037370\n",
      "Iteration 14, loss = 0.01473054\n",
      "Validation score: 0.006035\n",
      "Iteration 15, loss = 0.01399958\n",
      "Validation score: 0.026034\n",
      "Iteration 16, loss = 0.01354718\n",
      "Validation score: 0.037502\n",
      "Iteration 17, loss = 0.01324325\n",
      "Validation score: 0.044673\n",
      "Iteration 18, loss = 0.01306354\n",
      "Validation score: 0.052265\n",
      "Iteration 19, loss = 0.01285088\n",
      "Validation score: 0.065432\n",
      "Iteration 20, loss = 0.01263268\n",
      "Validation score: 0.080091\n",
      "Iteration 21, loss = 0.01239603\n",
      "Validation score: 0.091488\n",
      "Iteration 22, loss = 0.01222396\n",
      "Validation score: 0.102382\n",
      "Iteration 23, loss = 0.01205463\n",
      "Validation score: 0.112691\n",
      "Iteration 24, loss = 0.01189606\n",
      "Validation score: 0.123746\n",
      "Iteration 25, loss = 0.01174109\n",
      "Validation score: 0.134112\n",
      "Iteration 26, loss = 0.01159338\n",
      "Validation score: 0.144640\n",
      "Iteration 27, loss = 0.01140687\n",
      "Validation score: 0.157287\n",
      "Iteration 28, loss = 0.01118348\n",
      "Validation score: 0.173920\n",
      "Iteration 29, loss = 0.01096228\n",
      "Validation score: 0.191366\n",
      "Iteration 30, loss = 0.01074930\n",
      "Validation score: 0.207339\n",
      "Iteration 31, loss = 0.01055408\n",
      "Validation score: 0.223320\n",
      "Iteration 32, loss = 0.01037232\n",
      "Validation score: 0.238132\n",
      "Iteration 33, loss = 0.01015214\n",
      "Validation score: 0.262135\n",
      "Iteration 34, loss = 0.00988923\n",
      "Validation score: 0.282098\n",
      "Iteration 35, loss = 0.00954947\n",
      "Validation score: 0.309474\n",
      "Iteration 36, loss = 0.00921507\n",
      "Validation score: 0.332911\n",
      "Iteration 37, loss = 0.00887573\n",
      "Validation score: 0.361019\n",
      "Iteration 38, loss = 0.00848379\n",
      "Validation score: 0.395904\n",
      "Iteration 39, loss = 0.00808327\n",
      "Validation score: 0.417507\n",
      "Iteration 40, loss = 0.00775383\n",
      "Validation score: 0.440552\n",
      "Iteration 41, loss = 0.00744978\n",
      "Validation score: 0.461189\n",
      "Iteration 42, loss = 0.00717618\n",
      "Validation score: 0.479834\n",
      "Iteration 43, loss = 0.00693308\n",
      "Validation score: 0.494545\n",
      "Iteration 44, loss = 0.00668806\n",
      "Validation score: 0.515656\n",
      "Iteration 45, loss = 0.00645420\n",
      "Validation score: 0.531383\n",
      "Iteration 46, loss = 0.00626527\n",
      "Validation score: 0.541080\n",
      "Iteration 47, loss = 0.00613331\n",
      "Validation score: 0.551749\n",
      "Iteration 48, loss = 0.00595173\n",
      "Validation score: 0.563533\n",
      "Iteration 49, loss = 0.00579594\n",
      "Validation score: 0.566997\n",
      "Iteration 50, loss = 0.00570202\n",
      "Validation score: 0.580008\n",
      "Iteration 51, loss = 0.00555632\n",
      "Validation score: 0.589566\n",
      "Iteration 52, loss = 0.00538753\n",
      "Validation score: 0.601580\n",
      "Iteration 53, loss = 0.00526174\n",
      "Validation score: 0.608233\n",
      "Iteration 54, loss = 0.00514930\n",
      "Validation score: 0.615396\n",
      "Iteration 55, loss = 0.00506116\n",
      "Validation score: 0.624197\n",
      "Iteration 56, loss = 0.00498996\n",
      "Validation score: 0.625169\n",
      "Iteration 57, loss = 0.00490636\n",
      "Validation score: 0.633894\n",
      "Iteration 58, loss = 0.00485291\n",
      "Validation score: 0.637053\n",
      "Iteration 59, loss = 0.00473247\n",
      "Validation score: 0.642698\n",
      "Iteration 60, loss = 0.00468972\n",
      "Validation score: 0.649441\n",
      "Iteration 61, loss = 0.00457879\n",
      "Validation score: 0.644354\n",
      "Iteration 62, loss = 0.00460478\n",
      "Validation score: 0.635088\n",
      "Iteration 63, loss = 0.00456835\n",
      "Validation score: 0.657171\n",
      "Iteration 64, loss = 0.00442588\n",
      "Validation score: 0.662756\n",
      "Iteration 65, loss = 0.00441553\n",
      "Validation score: 0.666604\n",
      "Iteration 66, loss = 0.00437534\n",
      "Validation score: 0.669045\n",
      "Iteration 67, loss = 0.00436282\n",
      "Validation score: 0.668293\n",
      "Iteration 68, loss = 0.00430918\n",
      "Validation score: 0.665866\n",
      "Iteration 69, loss = 0.00427308\n",
      "Validation score: 0.677167\n",
      "Iteration 70, loss = 0.00425524\n",
      "Validation score: 0.677467\n",
      "Iteration 71, loss = 0.00417375\n",
      "Validation score: 0.681734\n",
      "Iteration 72, loss = 0.00414592\n",
      "Validation score: 0.684008\n",
      "Iteration 73, loss = 0.00410162\n",
      "Validation score: 0.685731\n",
      "Iteration 74, loss = 0.00418129\n",
      "Validation score: 0.670511\n",
      "Iteration 75, loss = 0.00415987\n",
      "Validation score: 0.676782\n",
      "Iteration 76, loss = 0.00411007\n",
      "Validation score: 0.691116\n",
      "Iteration 77, loss = 0.00404256\n",
      "Validation score: 0.694231\n",
      "Iteration 78, loss = 0.00401006\n",
      "Validation score: 0.693166\n",
      "Iteration 79, loss = 0.00399484\n",
      "Validation score: 0.698084\n",
      "Iteration 80, loss = 0.00400707\n",
      "Validation score: 0.699314\n",
      "Iteration 81, loss = 0.00392204\n",
      "Validation score: 0.701363\n",
      "Iteration 82, loss = 0.00392499\n",
      "Validation score: 0.703625\n",
      "Iteration 83, loss = 0.00397476\n",
      "Validation score: 0.699474\n",
      "Iteration 84, loss = 0.00397163\n",
      "Validation score: 0.700473\n",
      "Iteration 85, loss = 0.00386651\n",
      "Validation score: 0.705190\n",
      "Iteration 86, loss = 0.00390946\n",
      "Validation score: 0.704160\n",
      "Iteration 87, loss = 0.00387388\n",
      "Validation score: 0.709978\n",
      "Iteration 88, loss = 0.00386260\n",
      "Validation score: 0.709674\n",
      "Iteration 89, loss = 0.00380559\n",
      "Validation score: 0.710834\n",
      "Iteration 90, loss = 0.00382414\n",
      "Validation score: 0.712349\n",
      "Iteration 91, loss = 0.00385023\n",
      "Validation score: 0.714590\n",
      "Iteration 92, loss = 0.00376887\n",
      "Validation score: 0.713456\n",
      "Iteration 93, loss = 0.00374272\n",
      "Validation score: 0.712501\n",
      "Iteration 94, loss = 0.00385117\n",
      "Validation score: 0.711815\n",
      "Iteration 95, loss = 0.00370375\n",
      "Validation score: 0.719016\n",
      "Iteration 96, loss = 0.00369329\n",
      "Validation score: 0.715743\n",
      "Iteration 97, loss = 0.00369028\n",
      "Validation score: 0.722236\n",
      "Iteration 98, loss = 0.00370440\n",
      "Validation score: 0.722916\n",
      "Iteration 99, loss = 0.00371667\n",
      "Validation score: 0.716816\n",
      "Iteration 100, loss = 0.00372287\n",
      "Validation score: 0.723700\n",
      "Iteration 101, loss = 0.00366462\n",
      "Validation score: 0.723106\n",
      "Iteration 102, loss = 0.00363303\n",
      "Validation score: 0.705479\n",
      "Iteration 103, loss = 0.00371133\n",
      "Validation score: 0.720405\n",
      "Iteration 104, loss = 0.00362467\n",
      "Validation score: 0.721758\n",
      "Iteration 105, loss = 0.00361311\n",
      "Validation score: 0.727805\n",
      "Iteration 106, loss = 0.00364446\n",
      "Validation score: 0.729091\n",
      "Iteration 107, loss = 0.00367629\n",
      "Validation score: 0.727198\n",
      "Iteration 108, loss = 0.00356354\n",
      "Validation score: 0.730800\n",
      "Iteration 109, loss = 0.00361390\n",
      "Validation score: 0.730227\n",
      "Iteration 110, loss = 0.00357335\n",
      "Validation score: 0.697207\n",
      "Iteration 111, loss = 0.00369824\n",
      "Validation score: 0.723584\n",
      "Iteration 112, loss = 0.00359323\n",
      "Validation score: 0.734123\n",
      "Iteration 113, loss = 0.00356636\n",
      "Validation score: 0.731500\n",
      "Iteration 114, loss = 0.00351020\n",
      "Validation score: 0.734242\n",
      "Iteration 115, loss = 0.00358473\n",
      "Validation score: 0.735380\n",
      "Iteration 116, loss = 0.00357794\n",
      "Validation score: 0.713168\n",
      "Iteration 117, loss = 0.00355888\n",
      "Validation score: 0.736071\n",
      "Iteration 118, loss = 0.00352099\n",
      "Validation score: 0.724342\n",
      "Iteration 119, loss = 0.00350558\n",
      "Validation score: 0.720208\n",
      "Iteration 120, loss = 0.00351922\n",
      "Validation score: 0.738531\n",
      "Iteration 121, loss = 0.00351439\n",
      "Validation score: 0.739036\n",
      "Iteration 122, loss = 0.00357509\n",
      "Validation score: 0.740084\n",
      "Iteration 123, loss = 0.00351219\n",
      "Validation score: 0.737512\n",
      "Iteration 124, loss = 0.00343732\n",
      "Validation score: 0.736689\n",
      "Iteration 125, loss = 0.00344523\n",
      "Validation score: 0.740471\n",
      "Iteration 126, loss = 0.00345178\n",
      "Validation score: 0.740013\n",
      "Iteration 127, loss = 0.00344056\n",
      "Validation score: 0.739160\n",
      "Iteration 128, loss = 0.00341555\n",
      "Validation score: 0.744502\n",
      "Iteration 129, loss = 0.00340705\n",
      "Validation score: 0.742347\n",
      "Iteration 130, loss = 0.00339629\n",
      "Validation score: 0.740227\n",
      "Iteration 131, loss = 0.00342987\n",
      "Validation score: 0.743198\n",
      "Iteration 132, loss = 0.00341404\n",
      "Validation score: 0.740385\n",
      "Iteration 133, loss = 0.00346155\n",
      "Validation score: 0.726577\n",
      "Iteration 134, loss = 0.00345231\n",
      "Validation score: 0.746814\n",
      "Iteration 135, loss = 0.00337025\n",
      "Validation score: 0.722834\n",
      "Iteration 136, loss = 0.00347480\n",
      "Validation score: 0.744762\n",
      "Iteration 137, loss = 0.00342544\n",
      "Validation score: 0.744062\n",
      "Iteration 138, loss = 0.00338237\n",
      "Validation score: 0.747184\n",
      "Iteration 139, loss = 0.00334343\n",
      "Validation score: 0.748454\n",
      "Iteration 140, loss = 0.00335870\n",
      "Validation score: 0.750808\n",
      "Iteration 141, loss = 0.00334126\n",
      "Validation score: 0.748237\n",
      "Iteration 142, loss = 0.00333534\n",
      "Validation score: 0.750440\n",
      "Iteration 143, loss = 0.00331588\n",
      "Validation score: 0.747306\n",
      "Iteration 144, loss = 0.00330204\n",
      "Validation score: 0.742430\n",
      "Iteration 145, loss = 0.00341117\n",
      "Validation score: 0.748948\n",
      "Iteration 146, loss = 0.00338916\n",
      "Validation score: 0.741733\n",
      "Iteration 147, loss = 0.00340161\n",
      "Validation score: 0.750518\n",
      "Iteration 148, loss = 0.00332748\n",
      "Validation score: 0.746468\n",
      "Iteration 149, loss = 0.00329864\n",
      "Validation score: 0.756164\n",
      "Iteration 150, loss = 0.00330585\n",
      "Validation score: 0.754002\n",
      "Iteration 151, loss = 0.00331925\n",
      "Validation score: 0.742122\n",
      "Iteration 152, loss = 0.00328344\n",
      "Validation score: 0.752408\n",
      "Iteration 153, loss = 0.00329700\n",
      "Validation score: 0.750157\n",
      "Iteration 154, loss = 0.00328190\n",
      "Validation score: 0.738464\n",
      "Iteration 155, loss = 0.00327206\n",
      "Validation score: 0.749760\n",
      "Iteration 156, loss = 0.00325546\n",
      "Validation score: 0.758370\n",
      "Iteration 157, loss = 0.00320506\n",
      "Validation score: 0.754737\n",
      "Iteration 158, loss = 0.00324298\n",
      "Validation score: 0.758651\n",
      "Iteration 159, loss = 0.00327281\n",
      "Validation score: 0.757571\n",
      "Iteration 160, loss = 0.00325201\n",
      "Validation score: 0.731889\n",
      "Iteration 161, loss = 0.00328209\n",
      "Validation score: 0.751308\n",
      "Iteration 162, loss = 0.00326715\n",
      "Validation score: 0.759208\n",
      "Iteration 163, loss = 0.00321684\n",
      "Validation score: 0.759704\n",
      "Iteration 164, loss = 0.00318652\n",
      "Validation score: 0.758761\n",
      "Iteration 165, loss = 0.00336743\n",
      "Validation score: 0.725277\n",
      "Iteration 166, loss = 0.00340857\n",
      "Validation score: 0.747665\n",
      "Iteration 167, loss = 0.00321473\n",
      "Validation score: 0.754897\n",
      "Iteration 168, loss = 0.00335511\n",
      "Validation score: 0.754476\n",
      "Iteration 169, loss = 0.00322646\n",
      "Validation score: 0.758617\n",
      "Iteration 170, loss = 0.00318095\n",
      "Validation score: 0.759637\n",
      "Iteration 171, loss = 0.00333061\n",
      "Validation score: 0.761848\n",
      "Iteration 172, loss = 0.00320000\n",
      "Validation score: 0.762256\n",
      "Iteration 173, loss = 0.00315983\n",
      "Validation score: 0.766180\n",
      "Iteration 174, loss = 0.00317093\n",
      "Validation score: 0.754470\n",
      "Iteration 175, loss = 0.00317094\n",
      "Validation score: 0.766244\n",
      "Iteration 176, loss = 0.00312946\n",
      "Validation score: 0.765860\n",
      "Iteration 177, loss = 0.00311802\n",
      "Validation score: 0.767969\n",
      "Iteration 178, loss = 0.00313052\n",
      "Validation score: 0.767317\n",
      "Iteration 179, loss = 0.00311618\n",
      "Validation score: 0.756053\n",
      "Iteration 180, loss = 0.00312304\n",
      "Validation score: 0.765628\n",
      "Iteration 181, loss = 0.00318316\n",
      "Validation score: 0.764100\n",
      "Iteration 182, loss = 0.00313609\n",
      "Validation score: 0.768495\n",
      "Iteration 183, loss = 0.00312682\n",
      "Validation score: 0.766484\n",
      "Iteration 184, loss = 0.00313019\n",
      "Validation score: 0.771992\n",
      "Iteration 185, loss = 0.00310357\n",
      "Validation score: 0.756738\n",
      "Iteration 186, loss = 0.00311493\n",
      "Validation score: 0.770912\n",
      "Iteration 187, loss = 0.00309967\n",
      "Validation score: 0.770413\n",
      "Iteration 188, loss = 0.00316297\n",
      "Validation score: 0.771909\n",
      "Iteration 189, loss = 0.00304830\n",
      "Validation score: 0.770514\n",
      "Iteration 190, loss = 0.00308842\n",
      "Validation score: 0.769381\n",
      "Iteration 191, loss = 0.00303173\n",
      "Validation score: 0.774621\n",
      "Iteration 192, loss = 0.00303792\n",
      "Validation score: 0.770530\n",
      "Iteration 193, loss = 0.00314236\n",
      "Validation score: 0.775671\n",
      "Iteration 194, loss = 0.00311188\n",
      "Validation score: 0.773832\n",
      "Iteration 195, loss = 0.00302664\n",
      "Validation score: 0.775388\n",
      "Iteration 196, loss = 0.00306953\n",
      "Validation score: 0.770868\n",
      "Iteration 197, loss = 0.00307549\n",
      "Validation score: 0.773422\n",
      "Iteration 198, loss = 0.00303738\n",
      "Validation score: 0.775609\n",
      "Iteration 199, loss = 0.00301176\n",
      "Validation score: 0.771545\n",
      "Iteration 200, loss = 0.00299888\n",
      "Validation score: 0.776915\n",
      "Iteration 201, loss = 0.00306183\n",
      "Validation score: 0.777991\n",
      "Iteration 202, loss = 0.00303698\n",
      "Validation score: 0.780767\n",
      "Iteration 203, loss = 0.00299771\n",
      "Validation score: 0.781914\n",
      "Iteration 204, loss = 0.00300472\n",
      "Validation score: 0.780092\n",
      "Iteration 205, loss = 0.00297297\n",
      "Validation score: 0.778197\n",
      "Iteration 206, loss = 0.00292400\n",
      "Validation score: 0.782228\n",
      "Iteration 207, loss = 0.00297114\n",
      "Validation score: 0.777576\n",
      "Iteration 208, loss = 0.00304098\n",
      "Validation score: 0.771957\n",
      "Iteration 209, loss = 0.00297814\n",
      "Validation score: 0.783830\n",
      "Iteration 210, loss = 0.00291585\n",
      "Validation score: 0.783160\n",
      "Iteration 211, loss = 0.00294572\n",
      "Validation score: 0.770997\n",
      "Iteration 212, loss = 0.00300014\n",
      "Validation score: 0.785238\n",
      "Iteration 213, loss = 0.00292554\n",
      "Validation score: 0.784396\n",
      "Iteration 214, loss = 0.00288906\n",
      "Validation score: 0.777843\n",
      "Iteration 215, loss = 0.00292266\n",
      "Validation score: 0.783651\n",
      "Iteration 216, loss = 0.00287218\n",
      "Validation score: 0.781321\n",
      "Iteration 217, loss = 0.00286691\n",
      "Validation score: 0.789321\n",
      "Iteration 218, loss = 0.00283939\n",
      "Validation score: 0.790271\n",
      "Iteration 219, loss = 0.00288680\n",
      "Validation score: 0.788202\n",
      "Iteration 220, loss = 0.00285503\n",
      "Validation score: 0.788520\n",
      "Iteration 221, loss = 0.00286943\n",
      "Validation score: 0.789122\n",
      "Iteration 222, loss = 0.00287229\n",
      "Validation score: 0.790310\n",
      "Iteration 223, loss = 0.00288899\n",
      "Validation score: 0.789388\n",
      "Iteration 224, loss = 0.00282225\n",
      "Validation score: 0.792494\n",
      "Iteration 225, loss = 0.00290308\n",
      "Validation score: 0.781484\n",
      "Iteration 226, loss = 0.00292309\n",
      "Validation score: 0.790602\n",
      "Iteration 227, loss = 0.00281603\n",
      "Validation score: 0.791232\n",
      "Iteration 228, loss = 0.00279697\n",
      "Validation score: 0.792395\n",
      "Iteration 229, loss = 0.00280437\n",
      "Validation score: 0.795622\n",
      "Iteration 230, loss = 0.00279713\n",
      "Validation score: 0.782793\n",
      "Iteration 231, loss = 0.00287593\n",
      "Validation score: 0.793318\n",
      "Iteration 232, loss = 0.00276010\n",
      "Validation score: 0.796262\n",
      "Iteration 233, loss = 0.00276284\n",
      "Validation score: 0.797003\n",
      "Iteration 234, loss = 0.00288900\n",
      "Validation score: 0.790355\n",
      "Iteration 235, loss = 0.00292229\n",
      "Validation score: 0.794189\n",
      "Iteration 236, loss = 0.00287911\n",
      "Validation score: 0.793813\n",
      "Iteration 237, loss = 0.00283043\n",
      "Validation score: 0.793490\n",
      "Iteration 238, loss = 0.00280181\n",
      "Validation score: 0.797308\n",
      "Iteration 239, loss = 0.00279752\n",
      "Validation score: 0.780133\n",
      "Iteration 240, loss = 0.00282855\n",
      "Validation score: 0.799135\n",
      "Iteration 241, loss = 0.00273922\n",
      "Validation score: 0.795562\n",
      "Iteration 242, loss = 0.00270727\n",
      "Validation score: 0.792077\n",
      "Iteration 243, loss = 0.00287353\n",
      "Validation score: 0.795132\n",
      "Iteration 244, loss = 0.00282974\n",
      "Validation score: 0.789892\n",
      "Iteration 245, loss = 0.00272325\n",
      "Validation score: 0.798620\n",
      "Iteration 246, loss = 0.00275564\n",
      "Validation score: 0.801402\n",
      "Iteration 247, loss = 0.00274113\n",
      "Validation score: 0.793226\n",
      "Iteration 248, loss = 0.00295038\n",
      "Validation score: 0.795543\n",
      "Iteration 249, loss = 0.00280990\n",
      "Validation score: 0.792586\n",
      "Iteration 250, loss = 0.00277496\n",
      "Validation score: 0.797154\n",
      "Iteration 251, loss = 0.00278073\n",
      "Validation score: 0.794820\n",
      "Iteration 252, loss = 0.00269591\n",
      "Validation score: 0.801986\n",
      "Iteration 253, loss = 0.00272670\n",
      "Validation score: 0.803520\n",
      "Iteration 254, loss = 0.00271548\n",
      "Validation score: 0.790702\n",
      "Iteration 255, loss = 0.00275568\n",
      "Validation score: 0.805710\n",
      "Iteration 256, loss = 0.00267085\n",
      "Validation score: 0.806810\n",
      "Iteration 257, loss = 0.00264062\n",
      "Validation score: 0.806951\n",
      "Iteration 258, loss = 0.00265438\n",
      "Validation score: 0.783886\n",
      "Iteration 259, loss = 0.00266364\n",
      "Validation score: 0.807179\n",
      "Iteration 260, loss = 0.00265783\n",
      "Validation score: 0.771645\n",
      "Iteration 261, loss = 0.00281841\n",
      "Validation score: 0.794555\n",
      "Iteration 262, loss = 0.00264085\n",
      "Validation score: 0.799939\n",
      "Iteration 263, loss = 0.00263227\n",
      "Validation score: 0.808585\n",
      "Iteration 264, loss = 0.00265296\n",
      "Validation score: 0.800210\n",
      "Iteration 265, loss = 0.00269665\n",
      "Validation score: 0.800299\n",
      "Iteration 266, loss = 0.00263527\n",
      "Validation score: 0.807537\n",
      "Iteration 267, loss = 0.00258864\n",
      "Validation score: 0.798455\n",
      "Iteration 268, loss = 0.00260297\n",
      "Validation score: 0.811056\n",
      "Iteration 269, loss = 0.00259128\n",
      "Validation score: 0.805221\n",
      "Iteration 270, loss = 0.00261462\n",
      "Validation score: 0.806682\n",
      "Iteration 271, loss = 0.00257465\n",
      "Validation score: 0.811245\n",
      "Iteration 272, loss = 0.00257370\n",
      "Validation score: 0.812155\n",
      "Iteration 273, loss = 0.00256363\n",
      "Validation score: 0.814005\n",
      "Iteration 274, loss = 0.00256646\n",
      "Validation score: 0.793599\n",
      "Iteration 275, loss = 0.00271487\n",
      "Validation score: 0.805703\n",
      "Iteration 276, loss = 0.00255969\n",
      "Validation score: 0.811670\n",
      "Iteration 277, loss = 0.00252478\n",
      "Validation score: 0.811832\n",
      "Iteration 278, loss = 0.00253099\n",
      "Validation score: 0.808766\n",
      "Iteration 279, loss = 0.00256155\n",
      "Validation score: 0.805211\n",
      "Iteration 280, loss = 0.00254402\n",
      "Validation score: 0.795981\n",
      "Iteration 281, loss = 0.00256052\n",
      "Validation score: 0.806566\n",
      "Iteration 282, loss = 0.00269080\n",
      "Validation score: 0.788007\n",
      "Iteration 283, loss = 0.00257594\n",
      "Validation score: 0.813815\n",
      "Iteration 284, loss = 0.00254797\n",
      "Validation score: 0.802980\n",
      "Iteration 285, loss = 0.00257381\n",
      "Validation score: 0.815097\n",
      "Iteration 286, loss = 0.00254099\n",
      "Validation score: 0.814110\n",
      "Iteration 287, loss = 0.00253632\n",
      "Validation score: 0.802084\n",
      "Iteration 288, loss = 0.00249961\n",
      "Validation score: 0.813607\n",
      "Iteration 289, loss = 0.00251381\n",
      "Validation score: 0.818728\n",
      "Iteration 290, loss = 0.00247237\n",
      "Validation score: 0.817586\n",
      "Iteration 291, loss = 0.00244818\n",
      "Validation score: 0.819736\n",
      "Iteration 292, loss = 0.00249825\n",
      "Validation score: 0.816885\n",
      "Iteration 293, loss = 0.00252773\n",
      "Validation score: 0.821848\n",
      "Iteration 294, loss = 0.00260892\n",
      "Validation score: 0.821213\n",
      "Iteration 295, loss = 0.00245972\n",
      "Validation score: 0.817904\n",
      "Iteration 296, loss = 0.00246588\n",
      "Validation score: 0.818266\n",
      "Iteration 297, loss = 0.00243989\n",
      "Validation score: 0.821777\n",
      "Iteration 298, loss = 0.00245411\n",
      "Validation score: 0.820043\n",
      "Iteration 299, loss = 0.00245866\n",
      "Validation score: 0.819392\n",
      "Iteration 300, loss = 0.00244922\n",
      "Validation score: 0.818886\n",
      "Iteration 301, loss = 0.00243686\n",
      "Validation score: 0.824235\n",
      "Iteration 302, loss = 0.00245834\n",
      "Validation score: 0.819940\n",
      "Iteration 303, loss = 0.00243175\n",
      "Validation score: 0.823143\n",
      "Iteration 304, loss = 0.00260006\n",
      "Validation score: 0.822678\n",
      "Iteration 305, loss = 0.00243931\n",
      "Validation score: 0.825989\n",
      "Iteration 306, loss = 0.00249302\n",
      "Validation score: 0.804939\n",
      "Iteration 307, loss = 0.00262402\n",
      "Validation score: 0.815642\n",
      "Iteration 308, loss = 0.00255822\n",
      "Validation score: 0.818376\n",
      "Iteration 309, loss = 0.00248400\n",
      "Validation score: 0.823419\n",
      "Iteration 310, loss = 0.00240083\n",
      "Validation score: 0.823586\n",
      "Iteration 311, loss = 0.00241050\n",
      "Validation score: 0.824504\n",
      "Iteration 312, loss = 0.00241061\n",
      "Validation score: 0.822970\n",
      "Iteration 313, loss = 0.00239005\n",
      "Validation score: 0.820404\n",
      "Iteration 314, loss = 0.00246723\n",
      "Validation score: 0.827488\n",
      "Iteration 315, loss = 0.00238945\n",
      "Validation score: 0.824728\n",
      "Iteration 316, loss = 0.00244717\n",
      "Validation score: 0.816149\n",
      "Iteration 317, loss = 0.00240614\n",
      "Validation score: 0.828011\n",
      "Iteration 318, loss = 0.00237831\n",
      "Validation score: 0.822032\n",
      "Iteration 319, loss = 0.00248656\n",
      "Validation score: 0.819871\n",
      "Iteration 320, loss = 0.00233745\n",
      "Validation score: 0.818676\n",
      "Iteration 321, loss = 0.00237523\n",
      "Validation score: 0.828650\n",
      "Iteration 322, loss = 0.00239581\n",
      "Validation score: 0.791770\n",
      "Iteration 323, loss = 0.00236648\n",
      "Validation score: 0.798088\n",
      "Iteration 324, loss = 0.00240458\n",
      "Validation score: 0.799891\n",
      "Iteration 325, loss = 0.00238718\n",
      "Validation score: 0.831814\n",
      "Iteration 326, loss = 0.00237811\n",
      "Validation score: 0.829135\n",
      "Iteration 327, loss = 0.00243282\n",
      "Validation score: 0.829217\n",
      "Iteration 328, loss = 0.00248545\n",
      "Validation score: 0.821542\n",
      "Iteration 329, loss = 0.00234787\n",
      "Validation score: 0.830796\n",
      "Iteration 330, loss = 0.00236680\n",
      "Validation score: 0.827382\n",
      "Iteration 331, loss = 0.00236988\n",
      "Validation score: 0.815665\n",
      "Iteration 332, loss = 0.00239021\n",
      "Validation score: 0.805418\n",
      "Iteration 333, loss = 0.00237133\n",
      "Validation score: 0.831997\n",
      "Iteration 334, loss = 0.00232996\n",
      "Validation score: 0.823226\n",
      "Iteration 335, loss = 0.00245778\n",
      "Validation score: 0.826084\n",
      "Iteration 336, loss = 0.00244441\n",
      "Validation score: 0.815520\n",
      "Iteration 337, loss = 0.00234091\n",
      "Validation score: 0.816558\n",
      "Iteration 338, loss = 0.00232867\n",
      "Validation score: 0.801710\n",
      "Iteration 339, loss = 0.00234017\n",
      "Validation score: 0.823773\n",
      "Iteration 340, loss = 0.00231989\n",
      "Validation score: 0.813313\n",
      "Iteration 341, loss = 0.00231910\n",
      "Validation score: 0.831855\n",
      "Iteration 342, loss = 0.00230284\n",
      "Validation score: 0.834387\n",
      "Iteration 343, loss = 0.00229549\n",
      "Validation score: 0.834477\n",
      "Iteration 344, loss = 0.00230114\n",
      "Validation score: 0.834105\n",
      "Iteration 345, loss = 0.00239269\n",
      "Validation score: 0.826596\n",
      "Iteration 346, loss = 0.00229967\n",
      "Validation score: 0.827459\n",
      "Iteration 347, loss = 0.00233095\n",
      "Validation score: 0.837902\n",
      "Iteration 348, loss = 0.00228307\n",
      "Validation score: 0.820303\n",
      "Iteration 349, loss = 0.00239475\n",
      "Validation score: 0.826534\n",
      "Iteration 350, loss = 0.00240085\n",
      "Validation score: 0.830017\n",
      "Iteration 351, loss = 0.00231286\n",
      "Validation score: 0.823973\n",
      "Iteration 352, loss = 0.00237640\n",
      "Validation score: 0.828410\n",
      "Iteration 353, loss = 0.00230476\n",
      "Validation score: 0.833838\n",
      "Iteration 354, loss = 0.00229956\n",
      "Validation score: 0.833250\n",
      "Iteration 355, loss = 0.00231708\n",
      "Validation score: 0.839955\n",
      "Iteration 356, loss = 0.00226374\n",
      "Validation score: 0.833305\n",
      "Iteration 357, loss = 0.00237001\n",
      "Validation score: 0.823998\n",
      "Iteration 358, loss = 0.00241034\n",
      "Validation score: 0.834593\n",
      "Iteration 359, loss = 0.00224147\n",
      "Validation score: 0.840838\n",
      "Iteration 360, loss = 0.00229411\n",
      "Validation score: 0.835024\n",
      "Iteration 361, loss = 0.00227787\n",
      "Validation score: 0.830977\n",
      "Iteration 362, loss = 0.00228083\n",
      "Validation score: 0.837144\n",
      "Iteration 363, loss = 0.00232295\n",
      "Validation score: 0.836252\n",
      "Iteration 364, loss = 0.00233386\n",
      "Validation score: 0.818746\n",
      "Iteration 365, loss = 0.00230841\n",
      "Validation score: 0.817212\n",
      "Iteration 366, loss = 0.00231966\n",
      "Validation score: 0.829917\n",
      "Iteration 367, loss = 0.00222705\n",
      "Validation score: 0.834673\n",
      "Iteration 368, loss = 0.00224857\n",
      "Validation score: 0.840090\n",
      "Iteration 369, loss = 0.00220928\n",
      "Validation score: 0.841737\n",
      "Iteration 370, loss = 0.00228907\n",
      "Validation score: 0.825112\n",
      "Iteration 371, loss = 0.00220396\n",
      "Validation score: 0.837900\n",
      "Iteration 372, loss = 0.00218554\n",
      "Validation score: 0.838951\n",
      "Iteration 373, loss = 0.00219806\n",
      "Validation score: 0.834028\n",
      "Iteration 374, loss = 0.00234211\n",
      "Validation score: 0.834768\n",
      "Iteration 375, loss = 0.00223830\n",
      "Validation score: 0.844547\n",
      "Iteration 376, loss = 0.00219196\n",
      "Validation score: 0.842900\n",
      "Iteration 377, loss = 0.00221167\n",
      "Validation score: 0.841701\n",
      "Iteration 378, loss = 0.00219863\n",
      "Validation score: 0.844307\n",
      "Iteration 379, loss = 0.00228320\n",
      "Validation score: 0.838915\n",
      "Iteration 380, loss = 0.00222308\n",
      "Validation score: 0.834161\n",
      "Iteration 381, loss = 0.00223815\n",
      "Validation score: 0.836208\n",
      "Iteration 382, loss = 0.00220802\n",
      "Validation score: 0.837911\n",
      "Iteration 383, loss = 0.00217853\n",
      "Validation score: 0.843920\n",
      "Iteration 384, loss = 0.00224293\n",
      "Validation score: 0.831020\n",
      "Iteration 385, loss = 0.00223811\n",
      "Validation score: 0.846430\n",
      "Iteration 386, loss = 0.00217118\n",
      "Validation score: 0.846275\n",
      "Iteration 387, loss = 0.00215862\n",
      "Validation score: 0.841587\n",
      "Iteration 388, loss = 0.00216777\n",
      "Validation score: 0.836853\n",
      "Iteration 389, loss = 0.00214223\n",
      "Validation score: 0.820791\n",
      "Iteration 390, loss = 0.00223779\n",
      "Validation score: 0.843524\n",
      "Iteration 391, loss = 0.00214153\n",
      "Validation score: 0.834065\n",
      "Iteration 392, loss = 0.00223302\n",
      "Validation score: 0.832495\n",
      "Iteration 393, loss = 0.00238050\n",
      "Validation score: 0.839044\n",
      "Iteration 394, loss = 0.00214388\n",
      "Validation score: 0.845256\n",
      "Iteration 395, loss = 0.00222332\n",
      "Validation score: 0.838038\n",
      "Iteration 396, loss = 0.00217366\n",
      "Validation score: 0.832466\n",
      "Iteration 397, loss = 0.00226489\n",
      "Validation score: 0.847615\n",
      "Iteration 398, loss = 0.00214316\n",
      "Validation score: 0.845351\n",
      "Iteration 399, loss = 0.00213911\n",
      "Validation score: 0.840344\n",
      "Iteration 400, loss = 0.00218430\n",
      "Validation score: 0.849755\n",
      "Iteration 401, loss = 0.00214840\n",
      "Validation score: 0.850333\n",
      "Iteration 402, loss = 0.00215379\n",
      "Validation score: 0.849048\n",
      "Iteration 403, loss = 0.00214010\n",
      "Validation score: 0.839761\n",
      "Iteration 404, loss = 0.00214847\n",
      "Validation score: 0.849989\n",
      "Iteration 405, loss = 0.00216729\n",
      "Validation score: 0.833805\n",
      "Iteration 406, loss = 0.00223013\n",
      "Validation score: 0.846976\n",
      "Iteration 407, loss = 0.00213576\n",
      "Validation score: 0.846576\n",
      "Iteration 408, loss = 0.00210801\n",
      "Validation score: 0.851198\n",
      "Iteration 409, loss = 0.00219472\n",
      "Validation score: 0.817145\n",
      "Iteration 410, loss = 0.00222263\n",
      "Validation score: 0.850787\n",
      "Iteration 411, loss = 0.00221354\n",
      "Validation score: 0.840425\n",
      "Iteration 412, loss = 0.00214143\n",
      "Validation score: 0.843513\n",
      "Iteration 413, loss = 0.00210475\n",
      "Validation score: 0.846707\n",
      "Iteration 414, loss = 0.00228941\n",
      "Validation score: 0.852994\n",
      "Iteration 415, loss = 0.00214382\n",
      "Validation score: 0.851660\n",
      "Iteration 416, loss = 0.00208004\n",
      "Validation score: 0.844894\n",
      "Iteration 417, loss = 0.00206765\n",
      "Validation score: 0.852514\n",
      "Iteration 418, loss = 0.00234068\n",
      "Validation score: 0.837861\n",
      "Iteration 419, loss = 0.00217160\n",
      "Validation score: 0.836946\n",
      "Iteration 420, loss = 0.00216633\n",
      "Validation score: 0.849071\n",
      "Iteration 421, loss = 0.00211488\n",
      "Validation score: 0.842364\n",
      "Iteration 422, loss = 0.00211509\n",
      "Validation score: 0.843965\n",
      "Iteration 423, loss = 0.00213688\n",
      "Validation score: 0.846409\n",
      "Iteration 424, loss = 0.00215252\n",
      "Validation score: 0.851295\n",
      "Iteration 425, loss = 0.00213958\n",
      "Validation score: 0.852069\n",
      "Iteration 426, loss = 0.00221753\n",
      "Validation score: 0.834826\n",
      "Iteration 427, loss = 0.00220936\n",
      "Validation score: 0.834797\n",
      "Iteration 428, loss = 0.00212918\n",
      "Validation score: 0.833835\n",
      "Iteration 429, loss = 0.00219796\n",
      "Validation score: 0.847893\n",
      "Iteration 430, loss = 0.00213385\n",
      "Validation score: 0.850286\n",
      "Iteration 431, loss = 0.00226307\n",
      "Validation score: 0.846901\n",
      "Iteration 432, loss = 0.00213639\n",
      "Validation score: 0.843928\n",
      "Iteration 433, loss = 0.00209924\n",
      "Validation score: 0.851067\n",
      "Iteration 434, loss = 0.00205850\n",
      "Validation score: 0.842787\n",
      "Iteration 435, loss = 0.00204854\n",
      "Validation score: 0.852270\n",
      "Iteration 436, loss = 0.00216807\n",
      "Validation score: 0.816998\n",
      "Iteration 437, loss = 0.00215274\n",
      "Validation score: 0.853666\n",
      "Iteration 438, loss = 0.00213791\n",
      "Validation score: 0.850927\n",
      "Iteration 439, loss = 0.00208765\n",
      "Validation score: 0.855453\n",
      "Iteration 440, loss = 0.00212699\n",
      "Validation score: 0.854870\n",
      "Iteration 441, loss = 0.00206566\n",
      "Validation score: 0.839827\n",
      "Iteration 442, loss = 0.00208123\n",
      "Validation score: 0.853801\n",
      "Iteration 443, loss = 0.00212149\n",
      "Validation score: 0.846819\n",
      "Iteration 444, loss = 0.00203541\n",
      "Validation score: 0.855430\n",
      "Iteration 445, loss = 0.00207176\n",
      "Validation score: 0.856028\n",
      "Iteration 446, loss = 0.00206410\n",
      "Validation score: 0.849646\n",
      "Iteration 447, loss = 0.00212129\n",
      "Validation score: 0.857123\n",
      "Iteration 448, loss = 0.00202079\n",
      "Validation score: 0.845726\n",
      "Iteration 449, loss = 0.00208638\n",
      "Validation score: 0.858071\n",
      "Iteration 450, loss = 0.00208116\n",
      "Validation score: 0.854978\n",
      "Iteration 451, loss = 0.00202465\n",
      "Validation score: 0.823344\n",
      "Iteration 452, loss = 0.00226361\n",
      "Validation score: 0.858350\n",
      "Iteration 453, loss = 0.00211957\n",
      "Validation score: 0.859479\n",
      "Iteration 454, loss = 0.00210220\n",
      "Validation score: 0.855785\n",
      "Iteration 455, loss = 0.00207129\n",
      "Validation score: 0.826860\n",
      "Iteration 456, loss = 0.00209816\n",
      "Validation score: 0.851845\n",
      "Iteration 457, loss = 0.00207335\n",
      "Validation score: 0.856964\n",
      "Iteration 458, loss = 0.00202422\n",
      "Validation score: 0.857256\n",
      "Iteration 459, loss = 0.00203748\n",
      "Validation score: 0.854074\n",
      "Iteration 460, loss = 0.00202153\n",
      "Validation score: 0.857979\n",
      "Iteration 461, loss = 0.00207989\n",
      "Validation score: 0.860938\n",
      "Iteration 462, loss = 0.00200401\n",
      "Validation score: 0.860620\n",
      "Iteration 463, loss = 0.00210575\n",
      "Validation score: 0.854872\n",
      "Iteration 464, loss = 0.00206675\n",
      "Validation score: 0.846056\n",
      "Iteration 465, loss = 0.00201753\n",
      "Validation score: 0.851669\n",
      "Iteration 466, loss = 0.00199276\n",
      "Validation score: 0.840387\n",
      "Iteration 467, loss = 0.00207395\n",
      "Validation score: 0.859351\n",
      "Iteration 468, loss = 0.00199273\n",
      "Validation score: 0.861855\n",
      "Iteration 469, loss = 0.00216666\n",
      "Validation score: 0.862152\n",
      "Iteration 470, loss = 0.00207231\n",
      "Validation score: 0.804351\n",
      "Iteration 471, loss = 0.00214196\n",
      "Validation score: 0.862392\n",
      "Iteration 472, loss = 0.00210606\n",
      "Validation score: 0.861397\n",
      "Iteration 473, loss = 0.00208336\n",
      "Validation score: 0.855992\n",
      "Iteration 474, loss = 0.00210271\n",
      "Validation score: 0.853753\n",
      "Iteration 475, loss = 0.00209714\n",
      "Validation score: 0.810359\n",
      "Iteration 476, loss = 0.00216314\n",
      "Validation score: 0.854806\n",
      "Iteration 477, loss = 0.00204166\n",
      "Validation score: 0.844506\n",
      "Iteration 478, loss = 0.00206528\n",
      "Validation score: 0.859109\n",
      "Iteration 479, loss = 0.00196629\n",
      "Validation score: 0.848463\n",
      "Iteration 480, loss = 0.00197930\n",
      "Validation score: 0.834860\n",
      "Iteration 481, loss = 0.00210407\n",
      "Validation score: 0.858991\n",
      "Iteration 482, loss = 0.00209989\n",
      "Validation score: 0.852766\n",
      "Iteration 483, loss = 0.00204080\n",
      "Validation score: 0.860227\n",
      "Iteration 484, loss = 0.00199077\n",
      "Validation score: 0.862766\n",
      "Iteration 485, loss = 0.00197303\n",
      "Validation score: 0.857769\n",
      "Iteration 486, loss = 0.00201995\n",
      "Validation score: 0.863874\n",
      "Iteration 487, loss = 0.00204353\n",
      "Validation score: 0.857970\n",
      "Iteration 488, loss = 0.00200386\n",
      "Validation score: 0.859277\n",
      "Iteration 489, loss = 0.00196174\n",
      "Validation score: 0.854736\n",
      "Iteration 490, loss = 0.00197161\n",
      "Validation score: 0.858702\n",
      "Iteration 491, loss = 0.00198579\n",
      "Validation score: 0.859705\n",
      "Iteration 492, loss = 0.00199840\n",
      "Validation score: 0.822533\n",
      "Iteration 493, loss = 0.00219259\n",
      "Validation score: 0.858841\n",
      "Iteration 494, loss = 0.00210709\n",
      "Validation score: 0.859635\n",
      "Iteration 495, loss = 0.00213266\n",
      "Validation score: 0.864486\n",
      "Iteration 496, loss = 0.00199353\n",
      "Validation score: 0.844349\n",
      "Iteration 497, loss = 0.00212469\n",
      "Validation score: 0.863328\n",
      "Iteration 498, loss = 0.00197430\n",
      "Validation score: 0.859543\n",
      "Iteration 499, loss = 0.00195082\n",
      "Validation score: 0.854913\n",
      "Iteration 500, loss = 0.00194600\n",
      "Validation score: 0.864430\n"
     ]
    },
    {
     "name": "stderr",
     "output_type": "stream",
     "text": [
      "/Library/Frameworks/Python.framework/Versions/3.11/lib/python3.11/site-packages/sklearn/neural_network/_multilayer_perceptron.py:691: ConvergenceWarning: Stochastic Optimizer: Maximum iterations (500) reached and the optimization hasn't converged yet.\n",
      "  warnings.warn(\n"
     ]
    },
    {
     "data": {
      "text/plain": "MLPRegressor(activation='logistic', batch_size=100, early_stopping=True,\n             hidden_layer_sizes=(150, 100, 50), learning_rate_init=0.0001,\n             max_iter=500, n_iter_no_change=50, tol=1e-06, verbose=True)",
      "text/html": "<style>#sk-container-id-1 {color: black;}#sk-container-id-1 pre{padding: 0;}#sk-container-id-1 div.sk-toggleable {background-color: white;}#sk-container-id-1 label.sk-toggleable__label {cursor: pointer;display: block;width: 100%;margin-bottom: 0;padding: 0.3em;box-sizing: border-box;text-align: center;}#sk-container-id-1 label.sk-toggleable__label-arrow:before {content: \"▸\";float: left;margin-right: 0.25em;color: #696969;}#sk-container-id-1 label.sk-toggleable__label-arrow:hover:before {color: black;}#sk-container-id-1 div.sk-estimator:hover label.sk-toggleable__label-arrow:before {color: black;}#sk-container-id-1 div.sk-toggleable__content {max-height: 0;max-width: 0;overflow: hidden;text-align: left;background-color: #f0f8ff;}#sk-container-id-1 div.sk-toggleable__content pre {margin: 0.2em;color: black;border-radius: 0.25em;background-color: #f0f8ff;}#sk-container-id-1 input.sk-toggleable__control:checked~div.sk-toggleable__content {max-height: 200px;max-width: 100%;overflow: auto;}#sk-container-id-1 input.sk-toggleable__control:checked~label.sk-toggleable__label-arrow:before {content: \"▾\";}#sk-container-id-1 div.sk-estimator input.sk-toggleable__control:checked~label.sk-toggleable__label {background-color: #d4ebff;}#sk-container-id-1 div.sk-label input.sk-toggleable__control:checked~label.sk-toggleable__label {background-color: #d4ebff;}#sk-container-id-1 input.sk-hidden--visually {border: 0;clip: rect(1px 1px 1px 1px);clip: rect(1px, 1px, 1px, 1px);height: 1px;margin: -1px;overflow: hidden;padding: 0;position: absolute;width: 1px;}#sk-container-id-1 div.sk-estimator {font-family: monospace;background-color: #f0f8ff;border: 1px dotted black;border-radius: 0.25em;box-sizing: border-box;margin-bottom: 0.5em;}#sk-container-id-1 div.sk-estimator:hover {background-color: #d4ebff;}#sk-container-id-1 div.sk-parallel-item::after {content: \"\";width: 100%;border-bottom: 1px solid gray;flex-grow: 1;}#sk-container-id-1 div.sk-label:hover label.sk-toggleable__label {background-color: #d4ebff;}#sk-container-id-1 div.sk-serial::before {content: \"\";position: absolute;border-left: 1px solid gray;box-sizing: border-box;top: 0;bottom: 0;left: 50%;z-index: 0;}#sk-container-id-1 div.sk-serial {display: flex;flex-direction: column;align-items: center;background-color: white;padding-right: 0.2em;padding-left: 0.2em;position: relative;}#sk-container-id-1 div.sk-item {position: relative;z-index: 1;}#sk-container-id-1 div.sk-parallel {display: flex;align-items: stretch;justify-content: center;background-color: white;position: relative;}#sk-container-id-1 div.sk-item::before, #sk-container-id-1 div.sk-parallel-item::before {content: \"\";position: absolute;border-left: 1px solid gray;box-sizing: border-box;top: 0;bottom: 0;left: 50%;z-index: -1;}#sk-container-id-1 div.sk-parallel-item {display: flex;flex-direction: column;z-index: 1;position: relative;background-color: white;}#sk-container-id-1 div.sk-parallel-item:first-child::after {align-self: flex-end;width: 50%;}#sk-container-id-1 div.sk-parallel-item:last-child::after {align-self: flex-start;width: 50%;}#sk-container-id-1 div.sk-parallel-item:only-child::after {width: 0;}#sk-container-id-1 div.sk-dashed-wrapped {border: 1px dashed gray;margin: 0 0.4em 0.5em 0.4em;box-sizing: border-box;padding-bottom: 0.4em;background-color: white;}#sk-container-id-1 div.sk-label label {font-family: monospace;font-weight: bold;display: inline-block;line-height: 1.2em;}#sk-container-id-1 div.sk-label-container {text-align: center;}#sk-container-id-1 div.sk-container {/* jupyter's `normalize.less` sets `[hidden] { display: none; }` but bootstrap.min.css set `[hidden] { display: none !important; }` so we also need the `!important` here to be able to override the default hidden behavior on the sphinx rendered scikit-learn.org. See: https://github.com/scikit-learn/scikit-learn/issues/21755 */display: inline-block !important;position: relative;}#sk-container-id-1 div.sk-text-repr-fallback {display: none;}</style><div id=\"sk-container-id-1\" class=\"sk-top-container\"><div class=\"sk-text-repr-fallback\"><pre>MLPRegressor(activation=&#x27;logistic&#x27;, batch_size=100, early_stopping=True,\n             hidden_layer_sizes=(150, 100, 50), learning_rate_init=0.0001,\n             max_iter=500, n_iter_no_change=50, tol=1e-06, verbose=True)</pre><b>In a Jupyter environment, please rerun this cell to show the HTML representation or trust the notebook. <br />On GitHub, the HTML representation is unable to render, please try loading this page with nbviewer.org.</b></div><div class=\"sk-container\" hidden><div class=\"sk-item\"><div class=\"sk-estimator sk-toggleable\"><input class=\"sk-toggleable__control sk-hidden--visually\" id=\"sk-estimator-id-1\" type=\"checkbox\" checked><label for=\"sk-estimator-id-1\" class=\"sk-toggleable__label sk-toggleable__label-arrow\">MLPRegressor</label><div class=\"sk-toggleable__content\"><pre>MLPRegressor(activation=&#x27;logistic&#x27;, batch_size=100, early_stopping=True,\n             hidden_layer_sizes=(150, 100, 50), learning_rate_init=0.0001,\n             max_iter=500, n_iter_no_change=50, tol=1e-06, verbose=True)</pre></div></div></div></div></div>"
     },
     "execution_count": 16,
     "metadata": {},
     "output_type": "execute_result"
    }
   ],
   "source": [
    "X = x_train\n",
    "y = y_train\n",
    "model.fit(X, y)"
   ],
   "id": "72b1cb36e0e4798f"
  },
  {
   "cell_type": "markdown",
   "metadata": {},
   "source": [
    "The value of the loss at the final step"
   ],
   "id": "465d4cf5e1344e30"
  },
  {
   "cell_type": "code",
   "execution_count": 17,
   "metadata": {
    "ExecuteTime": {
     "end_time": "2023-12-06T17:11:12.534439Z",
     "start_time": "2023-12-06T17:11:12.351680Z"
    }
   },
   "outputs": [
    {
     "data": {
      "text/plain": "0.001946001922103628"
     },
     "execution_count": 17,
     "metadata": {},
     "output_type": "execute_result"
    }
   ],
   "source": [
    "model.loss_"
   ],
   "id": "d8e21015f2b0eb60"
  },
  {
   "cell_type": "markdown",
   "metadata": {},
   "source": [
    "Plotting loss via iterations"
   ],
   "id": "c09c9b5c20b45912"
  },
  {
   "cell_type": "code",
   "execution_count": 18,
   "metadata": {
    "ExecuteTime": {
     "end_time": "2023-12-06T17:11:12.653676Z",
     "start_time": "2023-12-06T17:11:12.372807Z"
    }
   },
   "outputs": [
    {
     "data": {
      "text/plain": "[<matplotlib.lines.Line2D at 0x13a8b0b90>]"
     },
     "execution_count": 18,
     "metadata": {},
     "output_type": "execute_result"
    },
    {
     "data": {
      "text/plain": "<Figure size 640x480 with 1 Axes>",
      "image/png": "[encoded data removed]"
     },
     "metadata": {},
     "output_type": "display_data"
    }
   ],
   "source": [
    "plt.plot(model.loss_curve_)"
   ],
   "id": "16ba379f1b863413"
  },
  {
   "cell_type": "code",
   "execution_count": 19,
   "metadata": {
    "ExecuteTime": {
     "end_time": "2023-12-06T17:11:12.678214Z",
     "start_time": "2023-12-06T17:11:12.636507Z"
    }
   },
   "outputs": [
    {
     "data": {
      "text/plain": "      Enrichment        FuelT      WaterT     Pitch     FuelR    WaterD  \\\n882    82.615131  1353.311343  507.487305  1.456090  0.399919  0.678665   \n1401   70.179255   663.690476  284.871114  1.453152  0.373774  0.916626   \n1897   30.695686  1718.021667  533.516355  0.655350  0.202083  0.687643   \n2595   30.051224  1219.762208  357.510131  1.895985  0.697868  0.804108   \n2475   73.072034  1178.836124  284.324131  0.710387  0.219032  0.669909   \n...          ...          ...         ...       ...       ...       ...   \n2000   84.468566   909.232079  457.824367  0.957119  0.203713  0.632561   \n605    40.412754  1762.306081  424.780991  1.994455  0.443370  0.757240   \n2273   20.428703  1293.130101  356.895041  1.139796  0.337750  0.688161   \n565    83.646345   523.605248  276.090847  1.833420  0.387456  0.745917   \n4      86.675023  1237.672361  597.014917  1.158495  0.221872  0.905299   \n\n          FuelD  \n882   10.115620  \n1401   9.537794  \n1897  10.109198  \n2595   9.839416  \n2475  10.444335  \n...         ...  \n2000   9.566078  \n605   10.194346  \n2273   9.553896  \n565    9.518478  \n4     10.250478  \n\n[541 rows x 7 columns]",
      "text/html": "<div>\n<style scoped>\n    .dataframe tbody tr th:only-of-type {\n        vertical-align: middle;\n    }\n\n    .dataframe tbody tr th {\n        vertical-align: top;\n    }\n\n    .dataframe thead th {\n        text-align: right;\n    }\n</style>\n<table border=\"1\" class=\"dataframe\">\n  <thead>\n    <tr style=\"text-align: right;\">\n      <th></th>\n      <th>Enrichment</th>\n      <th>FuelT</th>\n      <th>WaterT</th>\n      <th>Pitch</th>\n      <th>FuelR</th>\n      <th>WaterD</th>\n      <th>FuelD</th>\n    </tr>\n  </thead>\n  <tbody>\n    <tr>\n      <th>882</th>\n      <td>82.615131</td>\n      <td>1353.311343</td>\n      <td>507.487305</td>\n      <td>1.456090</td>\n      <td>0.399919</td>\n      <td>0.678665</td>\n      <td>10.115620</td>\n    </tr>\n    <tr>\n      <th>1401</th>\n      <td>70.179255</td>\n      <td>663.690476</td>\n      <td>284.871114</td>\n      <td>1.453152</td>\n      <td>0.373774</td>\n      <td>0.916626</td>\n      <td>9.537794</td>\n    </tr>\n    <tr>\n      <th>1897</th>\n      <td>30.695686</td>\n      <td>1718.021667</td>\n      <td>533.516355</td>\n      <td>0.655350</td>\n      <td>0.202083</td>\n      <td>0.687643</td>\n      <td>10.109198</td>\n    </tr>\n    <tr>\n      <th>2595</th>\n      <td>30.051224</td>\n      <td>1219.762208</td>\n      <td>357.510131</td>\n      <td>1.895985</td>\n      <td>0.697868</td>\n      <td>0.804108</td>\n      <td>9.839416</td>\n    </tr>\n    <tr>\n      <th>2475</th>\n      <td>73.072034</td>\n      <td>1178.836124</td>\n      <td>284.324131</td>\n      <td>0.710387</td>\n      <td>0.219032</td>\n      <td>0.669909</td>\n      <td>10.444335</td>\n    </tr>\n    <tr>\n      <th>...</th>\n      <td>...</td>\n      <td>...</td>\n      <td>...</td>\n      <td>...</td>\n      <td>...</td>\n      <td>...</td>\n      <td>...</td>\n    </tr>\n    <tr>\n      <th>2000</th>\n      <td>84.468566</td>\n      <td>909.232079</td>\n      <td>457.824367</td>\n      <td>0.957119</td>\n      <td>0.203713</td>\n      <td>0.632561</td>\n      <td>9.566078</td>\n    </tr>\n    <tr>\n      <th>605</th>\n      <td>40.412754</td>\n      <td>1762.306081</td>\n      <td>424.780991</td>\n      <td>1.994455</td>\n      <td>0.443370</td>\n      <td>0.757240</td>\n      <td>10.194346</td>\n    </tr>\n    <tr>\n      <th>2273</th>\n      <td>20.428703</td>\n      <td>1293.130101</td>\n      <td>356.895041</td>\n      <td>1.139796</td>\n      <td>0.337750</td>\n      <td>0.688161</td>\n      <td>9.553896</td>\n    </tr>\n    <tr>\n      <th>565</th>\n      <td>83.646345</td>\n      <td>523.605248</td>\n      <td>276.090847</td>\n      <td>1.833420</td>\n      <td>0.387456</td>\n      <td>0.745917</td>\n      <td>9.518478</td>\n    </tr>\n    <tr>\n      <th>4</th>\n      <td>86.675023</td>\n      <td>1237.672361</td>\n      <td>597.014917</td>\n      <td>1.158495</td>\n      <td>0.221872</td>\n      <td>0.905299</td>\n      <td>10.250478</td>\n    </tr>\n  </tbody>\n</table>\n<p>541 rows × 7 columns</p>\n</div>"
     },
     "execution_count": 19,
     "metadata": {},
     "output_type": "execute_result"
    }
   ],
   "source": [
    "x_val"
   ],
   "id": "73f0a464da8d483a"
  },
  {
   "cell_type": "markdown",
   "metadata": {},
   "source": [
    "Using the model to predict Keff from the validation data set"
   ],
   "id": "3693c4d9795ff84f"
  },
  {
   "cell_type": "code",
   "execution_count": 20,
   "metadata": {
    "ExecuteTime": {
     "end_time": "2023-12-06T17:11:12.796096Z",
     "start_time": "2023-12-06T17:11:12.660997Z"
    }
   },
   "outputs": [
    {
     "name": "stderr",
     "output_type": "stream",
     "text": [
      "/Library/Frameworks/Python.framework/Versions/3.11/lib/python3.11/site-packages/sklearn/base.py:465: UserWarning: X does not have valid feature names, but MLPRegressor was fitted with feature names\n",
      "  warnings.warn(\n"
     ]
    }
   ],
   "source": [
    "y_predict = model.predict(x_val.values)"
   ],
   "id": "6ba326fffc4b090"
  },
  {
   "cell_type": "code",
   "execution_count": 21,
   "metadata": {
    "scrolled": true,
    "ExecuteTime": {
     "end_time": "2023-12-06T17:11:12.796902Z",
     "start_time": "2023-12-06T17:11:12.726328Z"
    }
   },
   "outputs": [
    {
     "data": {
      "text/plain": "array([1.78338249, 1.77363076, 1.55125688, 1.64854673, 1.72438813,\n       1.76241332, 1.81364077, 1.73948426, 1.52210724, 1.70814907,\n       1.61433381, 1.59353435, 1.63024918, 1.59015052, 1.77180622,\n       1.72768353, 1.66075872, 1.73019073, 1.70084826, 1.56328313,\n       1.55949828, 1.70372061, 1.76209297, 1.79998417, 1.59502719,\n       1.57407468, 1.77372944, 1.59172788, 1.69676923, 1.61566305,\n       1.55956692, 1.49310996, 1.6822315 , 1.66142266, 1.66986209,\n       1.65770969, 1.74843575, 1.81640004, 1.73140413, 1.5635432 ,\n       1.72532615, 1.1745648 , 1.67481501, 1.4075853 , 1.80803369,\n       1.22325905, 1.51843695, 1.53853136, 1.70886603, 1.57471954,\n       1.63500386, 1.59794843, 1.77644509, 1.76326723, 1.73627795,\n       1.79523205, 1.52507621, 1.81850426, 1.55787161, 1.56036538,\n       1.75967493, 1.76980738, 1.77461583, 1.70892502, 1.54053098,\n       1.59632036, 1.69762696, 1.55584565, 1.64718593, 1.56877391,\n       1.72658519, 1.80747722, 1.72941051, 1.68020824, 1.54641423,\n       1.78438251, 1.29375227, 1.54682902, 1.74163786, 1.54722834,\n       1.73578007, 1.58360066, 1.49516232, 1.80281743, 1.77159668,\n       1.76460712, 1.64039061, 1.60919687, 1.78816465, 1.5435648 ,\n       1.69035518, 1.72504788, 1.716531  , 1.76892055, 1.75114657,\n       1.63362948, 1.66343038, 1.25772478, 1.64961215, 1.79336301,\n       1.51231835, 1.64478611, 1.53908189, 1.64493406, 1.73274427,\n       1.76868362, 1.56408432, 1.58031649, 1.14553111, 1.72682077,\n       1.67025237, 1.04785051, 1.52930632, 1.48706832, 1.78837283,\n       1.67458183, 1.67176104, 1.79575141, 1.47010025, 1.76578224,\n       1.67139196, 1.82689335, 1.59266877, 1.58676863, 1.71158141,\n       1.78145001, 1.20584864, 1.72703186, 1.69502108, 1.79001462,\n       1.63112148, 1.72880134, 1.58782718, 1.74533922, 1.7683261 ,\n       1.7598006 , 1.30023488, 1.47018535, 1.69563076, 1.61072577,\n       1.09295208, 1.74224126, 1.65020678, 1.77470104, 1.67582589,\n       1.66069239, 1.75553135, 1.53751746, 1.65341168, 1.68099219,\n       1.80322432, 1.62841384, 1.73058256, 1.63002889, 1.7877239 ,\n       1.63872541, 1.76204831, 1.74208545, 1.79038259, 1.61694719,\n       1.50970559, 1.56036322, 1.73128582, 1.63065833, 1.74874671,\n       1.65829498, 1.67228736, 1.64757653, 1.76447928, 1.53277415,\n       1.82018742, 1.71556961, 1.61027591, 1.64473332, 1.82953153,\n       1.78475912, 1.76881704, 1.81733238, 1.40168881, 1.70458934,\n       1.63646431, 0.98419689, 1.37531475, 1.74506884, 1.6655226 ,\n       1.71761299, 1.77995238, 1.29720984, 1.80232612, 1.69987968,\n       1.43548637, 1.23187628, 1.69958882, 1.79608541, 1.71342083,\n       1.70882306, 1.75776554, 1.74045181, 1.51977098, 1.29865789,\n       1.56386162, 1.76486273, 1.67562164, 1.72704836, 1.57014805,\n       1.58619721, 1.63202677, 1.77757544, 1.75243794, 1.59948735,\n       1.46638931, 1.79602855, 1.51039691, 1.55294764, 1.02484218,\n       1.75644692, 1.43593533, 1.30266701, 1.65265971, 1.82189559,\n       1.77503272, 1.56388596, 1.65171173, 1.7279625 , 1.67179979,\n       1.73680697, 1.12662889, 1.75178505, 1.14708807, 1.4723041 ,\n       1.40256126, 1.79123477, 1.61374576, 1.55305577, 1.73234639,\n       1.2595294 , 1.52453425, 1.61179069, 1.57955507, 1.37727665,\n       1.53237554, 1.50417418, 1.38811875, 1.62020543, 1.7096231 ,\n       1.62819217, 1.76253135, 1.54604832, 1.72575492, 1.55544554,\n       1.48789504, 1.68871034, 1.67720361, 1.69549981, 1.23941532,\n       1.76187257, 1.51637641, 1.45146577, 1.6903116 , 1.75278477,\n       1.70450874, 1.76856991, 1.62426361, 1.64061437, 1.76647361,\n       1.72636902, 1.59592103, 1.66348868, 1.5036332 , 1.72650459,\n       1.50255798, 1.20909511, 1.74434029, 1.72196055, 1.668131  ,\n       1.7356051 , 1.72716626, 1.73797776, 1.52333809, 1.74513518,\n       1.34726825, 1.69067479, 1.77669712, 1.79640838, 1.59020077,\n       1.52649662, 1.76935614, 1.7427405 , 1.62388813, 1.49034422,\n       1.48009068, 1.69288149, 1.78585915, 1.64999957, 1.72636558,\n       1.53667087, 1.50763421, 1.80300948, 1.14450987, 1.652254  ,\n       1.60093037, 1.37019663, 1.6793023 , 1.79359822, 1.4467408 ,\n       1.74913647, 1.73749159, 1.54787079, 1.62716186, 1.696778  ,\n       1.73343552, 1.3746409 , 1.74867865, 1.60688183, 1.67378783,\n       1.77518325, 1.73236508, 1.39847755, 1.63827316, 1.78969761,\n       1.63488458, 1.70142891, 1.69627546, 1.6084463 , 1.44906467,\n       1.05132663, 1.62019879, 1.58463939, 1.66858704, 1.47071593,\n       1.7207035 , 1.74279067, 1.57964617, 1.66419178, 1.54242547,\n       1.59167805, 1.43318565, 1.71682323, 1.73353553, 1.55921803,\n       1.78669637, 1.41099303, 1.53152683, 1.56835574, 1.58766129,\n       1.53604138, 1.57181276, 1.57993426, 1.53245753, 1.1283312 ,\n       1.79974787, 1.71579285, 1.33148422, 1.7784688 , 1.72748424,\n       1.66644324, 1.48112993, 1.48426388, 1.65878188, 1.63391463,\n       1.63814765, 1.66475867, 1.74950883, 1.56739445, 1.67209219,\n       1.71703415, 1.74985915, 1.60477008, 1.76654058, 1.68406087,\n       1.80839541, 1.14287565, 1.62293903, 1.69907788, 1.5306255 ,\n       1.55220152, 1.61306802, 1.72358611, 1.72818578, 1.67210681,\n       1.55498974, 1.62254897, 1.72113868, 1.6264157 , 1.75027532,\n       1.66210517, 1.76931136, 1.77091118, 1.74784092, 1.57368535,\n       1.7581    , 1.69419246, 1.75933746, 1.70371311, 1.65902611,\n       1.73728557, 1.63880673, 1.49983198, 1.59877063, 1.62993262,\n       1.70217892, 1.60188178, 1.56350923, 1.76718206, 1.74899612,\n       1.75903817, 1.22065252, 1.29594481, 1.75623438, 1.63004843,\n       1.65232325, 1.82007443, 1.23110119, 1.63974072, 1.76286821,\n       1.76380422, 1.59116738, 1.72269019, 1.59935993, 1.74065183,\n       1.74310079, 1.67726814, 1.80346303, 1.51781524, 1.57322342,\n       1.62302748, 1.62843685, 1.73304549, 1.58888666, 1.74347283,\n       1.76253441, 1.58454606, 1.65641226, 1.47462611, 1.67767763,\n       1.70370462, 1.69828697, 1.75396412, 1.31591603, 1.18808971,\n       1.4584673 , 1.48362994, 1.76780309, 1.56050649, 1.72741388,\n       1.75948122, 1.66893419, 1.41333501, 1.57384434, 1.51491604,\n       1.50496644, 1.72776059, 1.77166691, 1.71229349, 1.38813058,\n       1.50435203, 1.79379266, 1.61013652, 1.76489391, 1.53462096,\n       1.61351695, 1.72828926, 1.65110638, 1.79555628, 1.70600527,\n       1.53467694, 1.45694692, 1.76756692, 1.75916505, 1.67437351,\n       1.66593826, 1.57326783, 1.69402664, 1.67859566, 1.75227601,\n       1.75577535, 1.7716642 , 1.60549466, 1.59022859, 1.81823481,\n       1.7875016 , 1.70119416, 1.61214383, 1.70028935, 1.77443115,\n       1.63629178, 1.68252363, 1.77275748, 1.57349722, 1.66604711,\n       1.78917362, 1.65982781, 1.68826692, 1.56964489, 1.05212416,\n       1.67531872, 1.70140828, 1.5595067 , 1.66577283, 1.6850029 ,\n       1.50632855, 1.76407564, 1.72024459, 1.49611451, 1.61777208,\n       1.67141765, 1.64263331, 1.65321604, 1.45643423, 1.76512938,\n       1.75912751, 1.74551776, 1.65778334, 1.7875934 , 1.49107758,\n       1.7011412 , 1.80940612, 1.12997961, 1.36336487, 1.73346143,\n       1.72916265, 1.75541902, 1.74348354, 1.4009136 , 1.62210139,\n       1.55011472, 1.5794275 , 1.66454616, 1.76046736, 1.73202688,\n       0.99487097, 1.80933225, 1.713387  , 1.63787157, 1.66290745,\n       1.74930602, 1.78062327, 1.69464526, 1.55391346, 1.82509925,\n       1.80094307])"
     },
     "execution_count": 21,
     "metadata": {},
     "output_type": "execute_result"
    }
   ],
   "source": [
    "y_predict"
   ],
   "id": "5e23ae4fcc3cc348"
  },
  {
   "cell_type": "code",
   "execution_count": 22,
   "metadata": {
    "scrolled": false,
    "ExecuteTime": {
     "end_time": "2023-12-06T17:11:12.798211Z",
     "start_time": "2023-12-06T17:11:12.759892Z"
    }
   },
   "outputs": [
    {
     "data": {
      "text/plain": "array([1.74946472, 1.76563461, 1.50365109, 1.58374876, 1.6968677 ,\n       1.76548956, 1.8022357 , 1.7026136 , 1.53265244, 1.77220529,\n       1.56910685, 1.68400458, 1.64427162, 1.60725714, 1.72827338,\n       1.72392992, 1.69100826, 1.75080487, 1.73979289, 1.60075371,\n       1.46810393, 1.67124993, 1.72323868, 1.78327021, 1.67186459,\n       1.44288348, 1.79957635, 1.54839502, 1.66862597, 1.59174917,\n       1.68270666, 1.40278751, 1.69149934, 1.66344242, 1.66986154,\n       1.65581026, 1.72386827, 1.79710823, 1.76622776, 1.55266737,\n       1.72883001, 1.32412412, 1.63346041, 1.49193369, 1.77371516,\n       1.13872748, 1.38383832, 1.45584078, 1.67694373, 1.53530791,\n       1.73162176, 1.54182815, 1.74169613, 1.76756473, 1.76106033,\n       1.78334257, 1.50649825, 1.79580393, 1.55531026, 1.53698276,\n       1.74888025, 1.80329398, 1.75972835, 1.7033097 , 1.4688454 ,\n       1.57421691, 1.7565779 , 1.50855008, 1.6030718 , 1.51710159,\n       1.69801588, 1.78827937, 1.72956842, 1.687704  , 1.56121804,\n       1.82074457, 1.33075297, 1.60530614, 1.72574069, 1.50158324,\n       1.72718454, 1.44254744, 1.44337872, 1.84318875, 1.76492357,\n       1.74603567, 1.67021188, 1.49761325, 1.79196018, 1.49336908,\n       1.70279228, 1.76764079, 1.68685713, 1.74383489, 1.76852621,\n       1.60421035, 1.62696514, 1.3527059 , 1.72671687, 1.75615459,\n       1.38980848, 1.6303736 , 1.47212112, 1.62728505, 1.71853315,\n       1.7320026 , 1.642799  , 1.53216207, 1.23235623, 1.75457074,\n       1.66074355, 0.99834584, 1.36783157, 1.44714831, 1.77938619,\n       1.68860572, 1.73203949, 1.78705569, 1.20883013, 1.75866322,\n       1.64845242, 1.79363847, 1.54920372, 1.57494092, 1.70776376,\n       1.77333828, 1.18624721, 1.68286837, 1.66337231, 1.81324815,\n       1.57913998, 1.77135066, 1.51119603, 1.75774359, 1.80387311,\n       1.82680274, 1.25729205, 1.46108025, 1.74684712, 1.60441717,\n       0.88271029, 1.74471441, 1.58473706, 1.85623491, 1.67603681,\n       1.65027585, 1.74511949, 1.64385752, 1.6177215 , 1.67483376,\n       1.79977944, 1.66847227, 1.69041831, 1.66978387, 1.7726828 ,\n       1.61326494, 1.77471449, 1.78845562, 1.76703236, 1.59653384,\n       1.63434537, 1.52122415, 1.71991664, 1.6880599 , 1.70891496,\n       1.62018968, 1.67035093, 1.65703799, 1.80976105, 1.53066086,\n       1.79852585, 1.69234153, 1.62874477, 1.60128732, 1.78884451,\n       1.77462147, 1.7710068 , 1.80030814, 1.51725486, 1.69380964,\n       1.65585987, 0.90301122, 1.36711411, 1.75375206, 1.71190522,\n       1.67814334, 1.75996689, 1.21733061, 1.79091667, 1.68104496,\n       1.28254549, 1.3833959 , 1.68296219, 1.7645198 , 1.6778571 ,\n       1.76834604, 1.79797111, 1.72327389, 1.42472541, 1.36717553,\n       1.60657872, 1.7865963 , 1.74141754, 1.76686466, 1.54107232,\n       1.62539149, 1.66498549, 1.78220486, 1.75115119, 1.54766039,\n       1.45789244, 1.7657451 , 1.52398204, 1.53471535, 0.91348666,\n       1.72727496, 1.34962794, 1.07917629, 1.63037992, 1.74293284,\n       1.74785502, 1.62243815, 1.70188463, 1.70160809, 1.69377031,\n       1.70415421, 1.21455316, 1.74136242, 1.3189329 , 1.35673762,\n       1.53419718, 1.78372957, 1.5632173 , 1.53773049, 1.80742204,\n       1.21374966, 1.11689777, 1.68992617, 1.70802834, 1.38086016,\n       1.59821819, 1.44787956, 1.19616303, 1.61318097, 1.7060539 ,\n       1.59465986, 1.7305475 , 1.50468288, 1.68969494, 1.54031588,\n       1.56122993, 1.77123358, 1.64392713, 1.70954562, 1.37758571,\n       1.74755506, 1.36653645, 1.43358072, 1.68203225, 1.72514714,\n       1.67516721, 1.73940628, 1.71929273, 1.63273165, 1.72284037,\n       1.7058104 , 1.50798748, 1.60156505, 1.41174108, 1.79691028,\n       1.44073946, 1.24733336, 1.72552794, 1.69760743, 1.70358137,\n       1.75146807, 1.72503401, 1.77331729, 1.29537038, 1.70927577,\n       1.23229718, 1.6712538 , 1.78907538, 1.83820321, 1.58527532,\n       1.45192296, 1.83377799, 1.75900172, 1.58679855, 1.35823699,\n       1.61119502, 1.69697677, 1.78637042, 1.67339592, 1.75004848,\n       1.46110099, 1.4436577 , 1.74864594, 1.27383705, 1.53163507,\n       1.58749832, 1.14959457, 1.65239274, 1.76181162, 1.59689687,\n       1.73395392, 1.70370108, 1.61945439, 1.70527726, 1.74708335,\n       1.77514141, 1.20479826, 1.73472648, 1.58869845, 1.64490462,\n       1.74985064, 1.7095538 , 1.50305218, 1.61595234, 1.79873656,\n       1.69405587, 1.71435251, 1.71340892, 1.58846881, 1.34724922,\n       1.04701419, 1.6031618 , 1.52872975, 1.75789261, 1.38365722,\n       1.76970704, 1.70205164, 1.57278427, 1.73514065, 1.48091966,\n       1.63439002, 1.32541679, 1.67331668, 1.7834161 , 1.447137  ,\n       1.76039938, 1.44760598, 1.43209995, 1.48564812, 1.61322756,\n       1.5581313 , 1.51635122, 1.31320233, 1.65563521, 1.24483937,\n       1.75909581, 1.73047504, 1.21053115, 1.76723465, 1.70736863,\n       1.59635799, 1.56055592, 1.62272667, 1.63076699, 1.60456447,\n       1.70943389, 1.7285104 , 1.72412232, 1.51903555, 1.70929243,\n       1.76146028, 1.73913389, 1.54520298, 1.75182584, 1.75449979,\n       1.76622251, 1.25119251, 1.58648399, 1.7494917 , 1.6540357 ,\n       1.66418049, 1.56788672, 1.7816982 , 1.6889023 , 1.65471285,\n       1.50237205, 1.61610243, 1.72997702, 1.747908  , 1.72622685,\n       1.74748153, 1.74127747, 1.80817295, 1.7310486 , 1.50974451,\n       1.78067824, 1.65659846, 1.73983252, 1.70956795, 1.72210588,\n       1.70119737, 1.66667905, 1.65605054, 1.62932048, 1.62349358,\n       1.69589686, 1.64561254, 1.63467483, 1.77616578, 1.72941723,\n       1.80317412, 1.30185775, 1.46850835, 1.72464764, 1.60937479,\n       1.65082746, 1.79045327, 1.29545708, 1.58883329, 1.78252229,\n       1.784824  , 1.68253632, 1.68588253, 1.63301489, 1.7511953 ,\n       1.76160059, 1.7478896 , 1.77189379, 1.59099949, 1.63762142,\n       1.68915924, 1.55302203, 1.77923981, 1.52726366, 1.71322565,\n       1.77408615, 1.54374025, 1.71954761, 1.46987416, 1.65770578,\n       1.68398124, 1.65362407, 1.72556392, 1.37228886, 1.26655727,\n       1.5927356 , 1.35078134, 1.73100414, 1.5674883 , 1.69395949,\n       1.83238916, 1.63985531, 1.3001815 , 1.58992547, 1.52706219,\n       1.38270257, 1.6957542 , 1.7867335 , 1.69042441, 1.27980516,\n       1.43896002, 1.78903087, 1.56538293, 1.74315474, 1.48480337,\n       1.72957755, 1.70635615, 1.62140144, 1.78891324, 1.68986169,\n       1.42009895, 1.36183308, 1.82566798, 1.72186886, 1.67300571,\n       1.60607044, 1.55928689, 1.66656559, 1.75748537, 1.78313015,\n       1.75069685, 1.77741809, 1.70729761, 1.54313023, 1.77451508,\n       1.78459132, 1.65908602, 1.58714332, 1.68106333, 1.77145028,\n       1.71768397, 1.69125071, 1.77651768, 1.69860096, 1.70472881,\n       1.79281474, 1.66535458, 1.66945424, 1.54664132, 1.07219942,\n       1.62862416, 1.75991488, 1.53150377, 1.67800753, 1.6882557 ,\n       1.42559615, 1.76754663, 1.68828747, 1.40449143, 1.57996467,\n       1.69435529, 1.75809517, 1.66758061, 1.34756848, 1.73498246,\n       1.72194307, 1.84441498, 1.61584606, 1.75379351, 1.37716765,\n       1.72996663, 1.76611188, 0.82916505, 1.30323664, 1.7574778 ,\n       1.69985736, 1.72946298, 1.70351455, 1.30447642, 1.5783021 ,\n       1.61479276, 1.58409772, 1.74875283, 1.86071976, 1.74605971,\n       0.87846796, 1.80338421, 1.75305944, 1.59406855, 1.62129334,\n       1.73208338, 1.75375422, 1.73696558, 1.56498914, 1.80287991,\n       1.80278043])"
     },
     "execution_count": 22,
     "metadata": {},
     "output_type": "execute_result"
    }
   ],
   "source": [
    "y_val.values"
   ],
   "id": "4f7814c7ff0717ef"
  },
  {
   "cell_type": "markdown",
   "metadata": {},
   "source": [
    "Evaluating accuracy of the model on validation data set"
   ],
   "id": "93a087616da9f6e9"
  },
  {
   "cell_type": "code",
   "execution_count": 23,
   "metadata": {
    "scrolled": true,
    "ExecuteTime": {
     "end_time": "2023-12-06T17:11:13.325637Z",
     "start_time": "2023-12-06T17:11:12.767679Z"
    }
   },
   "outputs": [
    {
     "name": "stderr",
     "output_type": "stream",
     "text": [
      "/Library/Frameworks/Python.framework/Versions/3.11/lib/python3.11/site-packages/sklearn/base.py:465: UserWarning: X does not have valid feature names, but MLPRegressor was fitted with feature names\n",
      "  warnings.warn(\n"
     ]
    },
    {
     "name": "stdout",
     "output_type": "stream",
     "text": [
      "r_squared =  0.8504539493160012\n",
      "RMSE =  0.06653922342210639\n",
      "MAE =  0.04797171876684855\n"
     ]
    }
   ],
   "source": [
    "import numpy as np\n",
    "from sklearn.metrics import mean_squared_error, mean_absolute_error\n",
    "r_squared = model.score(x_val.values, y_val.values)\n",
    "rmse = np.sqrt(mean_squared_error(y_val.values, y_predict))\n",
    "mae = mean_absolute_error(y_predict, y_val.values)\n",
    "print(\"r_squared = \", r_squared)\n",
    "print(\"RMSE = \", rmse)\n",
    "print(\"MAE = \", mae)"
   ],
   "id": "8ed0a94b5b1f3165"
  }
 ],
 "metadata": {
  "kernelspec": {
   "display_name": "Python 3",
   "language": "python",
   "name": "python3"
  },
  "language_info": {
   "codemirror_mode": {
    "name": "ipython",
    "version": 3
   },
   "file_extension": ".py",
   "mimetype": "text/x-python",
   "name": "python",
   "nbconvert_exporter": "python",
   "pygments_lexer": "ipython3",
   "version": "3.7.1"
  }
 },
 "nbformat": 4,
 "nbformat_minor": 5
}
