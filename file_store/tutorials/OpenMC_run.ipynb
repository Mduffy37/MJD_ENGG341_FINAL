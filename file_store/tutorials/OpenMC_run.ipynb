{
 "cells": [
  {
   "cell_type": "markdown",
   "metadata": {},
   "source": [
    "# OpenMC Scripts for Simulation of the PWR Fuel Cell"
   ]
  },
  {
   "cell_type": "markdown",
   "metadata": {},
   "source": [
    "The following assumptions were made for generating data for Machine Learning phase of the project:\n",
    "\n",
    "1. Temperature of the moderator was always lower or equal to the temperature of the fuel.\n",
    "2. Temperature of the cladding was always equal to the temperature of the fuel.\n",
    "3. Water density was calculated using iapws package (with pressure equal to 15 MPa and temperature equal to the temperature of the water used in simulations)\n",
    "4. Thickness of the cladding was always equal to 0.06 cm\n",
    "\n",
    "<br>\n",
    "So, if you want to compare results of the OpenMC run with the result of the model, you will need to install additionally iapws package. This package is available in conda, so you can install it using:\n",
    "<br>\n",
    "conda install iapws\n",
    "<br>\n",
    "\n",
    "You also need to use the assumptions mentioned above in your OpenMC simulations, otherwise, the comarison with your ML model can be unreliable."
   ]
  },
  {
   "cell_type": "markdown",
   "metadata": {},
   "source": [
    "Importing necessary modules"
   ]
  },
  {
   "cell_type": "markdown",
   "metadata": {},
   "source": [
    "Do not forget to install iapws package : conda install iapws"
   ]
  },
  {
   "cell_type": "code",
   "execution_count": 3,
   "metadata": {},
   "outputs": [],
   "source": [
    "import os\n",
    "import openmc\n",
    "import numpy as np\n",
    "from iapws import IAPWS97"
   ]
  },
  {
   "cell_type": "markdown",
   "metadata": {},
   "source": [
    "The following function creates materials.xml for OpenMC simulations.\n",
    "<br>\n",
    "Input parameters:\n",
    "* enr - enrichment of the uranium (weight percents)\n",
    "* fuel_temperature - temperature of the fuel in K\n",
    "* cladding_temperature - temperature of the cladding (zirconium) in K\n",
    "* moderator_temperature - temperature of the moderator (water) in K\n",
    "* fuel_density - density of the fuel, g/cm3\n",
    "* cladding_density - density of the cladding (was equal to 6.6 and constant for all the simulations in the dataset), g/cm3\n",
    "* moderator_density - density of the moderator, g/cm3\n",
    "<br>\n",
    "<br>\n",
    "Output:\n",
    "* List of the materials"
   ]
  },
  {
   "cell_type": "code",
   "execution_count": 4,
   "metadata": {},
   "outputs": [],
   "source": [
    "# Functions for defining materials\n",
    "def make_materials(enr=4.0, fuel_temperature=300.0, cladding_temperature=300.0, moderator_temperature=300.0,\n",
    "                   fuel_density=10.0, cladding_density=6.6, moderator_density=1.0):\n",
    "    # Defining uranium dioxide\n",
    "    uo2 = openmc.Material(name=\"uo2\")\n",
    "    uo2.add_element('U', 1.0, enrichment=enr)\n",
    "    uo2.add_element('O', 2.0)\n",
    "    uo2.set_density('g/cm3', fuel_density)\n",
    "    uo2.temperature = fuel_temperature\n",
    "    \n",
    "    # Zirconium\n",
    "    zirconium = openmc.Material(name=\"zirconium\")\n",
    "    zirconium.add_element('Zr', 1.0)\n",
    "    zirconium.set_density('g/cm3', cladding_density)\n",
    "    zirconium.temperature = cladding_temperature\n",
    "\n",
    "    # Water\n",
    "    water = openmc.Material(name=\"h2o\")\n",
    "    water.add_element('H', 2.0)\n",
    "    water.add_element('O', 1.0)\n",
    "    water.set_density('g/cm3', moderator_density)\n",
    "    water.temperature = moderator_temperature\n",
    "\n",
    "    materials = openmc.Materials([uo2, zirconium, water])\n",
    "    materials.export_to_xml()\n",
    "    return materials"
   ]
  },
  {
   "cell_type": "markdown",
   "metadata": {},
   "source": [
    "The following function creates the geometry.xml file for OpenMC simulations.\n",
    "<br>\n",
    "Input parameters:\n",
    "* materials - list of the materials for simulations returned by function make_materials\n",
    "* fuel_rad - radius of the fuel, cm\n",
    "* clad_outer_rad - outer radius of the cladding, cm\n",
    "* pitch - pitch of the cell, cm"
   ]
  },
  {
   "cell_type": "code",
   "execution_count": 5,
   "metadata": {},
   "outputs": [],
   "source": [
    "def make_geometry(materials, fuel_rad=0.39, clad_outer_rad=0.46, pitch=1.26):\n",
    "    fuel_outer_radius = openmc.ZCylinder(r=fuel_rad)\n",
    "    clad_outer_radius = openmc.ZCylinder(r=clad_outer_rad)\n",
    "    fuel_region = -fuel_outer_radius\n",
    "    clad_region = +fuel_outer_radius & -clad_outer_radius\n",
    "    \n",
    "    fuel = openmc.Cell(name='fuel')\n",
    "    fuel.fill = materials[0]\n",
    "    fuel.region = fuel_region\n",
    "\n",
    "    clad = openmc.Cell(name='clad')\n",
    "    clad.fill = materials[1]\n",
    "    clad.region = clad_region\n",
    "\n",
    "    left = openmc.XPlane(-pitch/2, boundary_type='reflective')\n",
    "    right = openmc.XPlane(pitch/2, boundary_type='reflective')\n",
    "    bottom = openmc.YPlane(-pitch/2, boundary_type='reflective')\n",
    "    top = openmc.YPlane(pitch/2, boundary_type='reflective')\n",
    "\n",
    "    water_region = +left & -right & +bottom & -top & +clad_outer_radius\n",
    "\n",
    "    moderator = openmc.Cell(name='moderator')\n",
    "    moderator.fill = materials[2]\n",
    "    moderator.region = water_region\n",
    "\n",
    "    root_universe = openmc.Universe(cells=(fuel, clad, moderator))\n",
    "    geometry = openmc.Geometry(root_universe)\n",
    "    geometry.export_to_xml()"
   ]
  },
  {
   "cell_type": "markdown",
   "metadata": {},
   "source": [
    "The following function creates settings.xml file for OpenMC simulations\n",
    "<br>\n",
    "Input parameters:\n",
    "* batches - number of batches for simulations\n",
    "* inactive - number of inactive cycles\n",
    "* particles - number of particles (neutrons) to simulate in each batch"
   ]
  },
  {
   "cell_type": "code",
   "execution_count": 6,
   "metadata": {},
   "outputs": [],
   "source": [
    "def make_settings(batches=150, inactive=30, particles=500):\n",
    "    # Create a point source\n",
    "    point = openmc.stats.Point((0, 0, 0))\n",
    "    source = openmc.Source(space=point)\n",
    " \n",
    "    settings = openmc.Settings()\n",
    "    settings.source = source\n",
    "    settings.batches = batches\n",
    "    settings.inactive = inactive\n",
    "    settings.particles = particles\n",
    "    settings.temperature = {'method':'interpolation'}\n",
    "    settings.export_to_xml()"
   ]
  },
  {
   "cell_type": "markdown",
   "metadata": {},
   "source": [
    "The following function produces combines together previous three functions to produce geometry.xml, materials.xml and settings.xml files for OpenMC simulations.\n",
    "<br>\n",
    "Input parameters:\n",
    "* enrichment - enrichment of the uranium (weight percents)\n",
    "* pitch - pitch of the cell, cm\n",
    "* frad - radius of the fuel, cm\n",
    "* tfuel - temperature of the fuel in K\n",
    "* tmoderator - temperature of the moderator (water) in K\n",
    "* mod_dens - density of the moderator, g/cm3\n",
    "* clad - thickness of the cladding, cm. Was equal to 0.06cm for all the simulations for data generation.\n",
    "* batches - number of batches for simulations\n",
    "* inactive - number of inactive cycles\n",
    "* particles - number of particles (neutrons) to simulate in each batch\n",
    "\n",
    "<br>\n",
    "Cladding temperature was equal to fuel temperature (for simplicity) in all calculations\n"
   ]
  },
  {
   "cell_type": "code",
   "execution_count": 7,
   "metadata": {},
   "outputs": [],
   "source": [
    "def make_openmc_input(enrichment, pitch, frad, tfuel, tmoderator, mod_dens, clad, batches, inactive, particles):\n",
    "    materials = make_materials(enr=enrichment, fuel_temperature=tfuel, cladding_temperature=tfuel, moderator_density=mod_dens, moderator_temperature=tmoderator)\n",
    "    make_geometry(materials=materials, fuel_rad=frad, clad_outer_rad=frad + clad, pitch=pitch)\n",
    "    make_settings(batches=batches, inactive=inactive, particles=particles)"
   ]
  },
  {
   "cell_type": "markdown",
   "metadata": {},
   "source": [
    "The following function removes the results of the previous simulations when simulations run in a row."
   ]
  },
  {
   "cell_type": "code",
   "execution_count": 8,
   "metadata": {},
   "outputs": [],
   "source": [
    "def clean_data():\n",
    "    for file in os.listdir(\".\"):\n",
    "        if file.endswith(\".h5\"):\n",
    "            print(\"File {} was removed\".format(os.path.abspath(file)))\n",
    "            os.remove(os.path.abspath(file))\n",
    "        if file.endswith(\".xml\"):\n",
    "            print(\"File {} was removed\".format(os.path.abspath(file)))\n",
    "            os.remove(os.path.abspath(file))"
   ]
  },
  {
   "cell_type": "markdown",
   "metadata": {},
   "source": [
    "The following function extracts keff and standard deviation from the output file when OpenMC simulations finished.\n",
    "Input:\n",
    "* batches - number of batches used in the simulations\n",
    "<br>\n",
    "Output:\n",
    "* keff - effective multiplication factor\n",
    "* std - standard deviation"
   ]
  },
  {
   "cell_type": "code",
   "execution_count": 9,
   "metadata": {},
   "outputs": [],
   "source": [
    "def get_keff_std(batches):\n",
    "    sp = openmc.StatePoint('statepoint.' + str(batches) + '.h5')\n",
    "    keff = sp.keff.nominal_value\n",
    "    std =  sp.keff.std_dev\n",
    "    sp.close\n",
    "    return keff, std"
   ]
  },
  {
   "cell_type": "markdown",
   "metadata": {},
   "source": [
    "The following function runs OpenMC simulations with one or more threads\n",
    "<br>\n",
    "Input parameters:\n",
    "* nthreads - number of threads"
   ]
  },
  {
   "cell_type": "code",
   "execution_count": 10,
   "metadata": {},
   "outputs": [],
   "source": [
    "def run_openmc(nthreads=None, output=False):\n",
    "    if nthreads is None:\n",
    "        openmc.run(output=output)\n",
    "    else:\n",
    "        openmc.run(threads=nthreads, output=output)"
   ]
  },
  {
   "cell_type": "markdown",
   "metadata": {},
   "source": [
    "## Examples"
   ]
  },
  {
   "cell_type": "markdown",
   "metadata": {},
   "source": [
    "Single OpenMC run"
   ]
  },
  {
   "cell_type": "code",
   "execution_count": 11,
   "metadata": {},
   "outputs": [
    {
     "name": "stderr",
     "output_type": "stream",
     "text": [
      "/home/dzianis/anaconda3/envs/openmc-env/lib/python3.11/site-packages/openmc/source.py:390: FutureWarning: This class is deprecated in favor of 'IndependentSource'\n",
      "  warnings.warn(\"This class is deprecated in favor of 'IndependentSource'\", FutureWarning)\n"
     ]
    },
    {
     "name": "stdout",
     "output_type": "stream",
     "text": [
      "                                %%%%%%%%%%%%%%%\n",
      "                           %%%%%%%%%%%%%%%%%%%%%%%%\n",
      "                        %%%%%%%%%%%%%%%%%%%%%%%%%%%%%%\n",
      "                      %%%%%%%%%%%%%%%%%%%%%%%%%%%%%%%%%%\n",
      "                    %%%%%%%%%%%%%%%%%%%%%%%%%%%%%%%%%%%%%%\n",
      "                   %%%%%%%%%%%%%%%%%%%%%%%%%%%%%%%%%%%%%%%%\n",
      "                                    %%%%%%%%%%%%%%%%%%%%%%%%\n",
      "                                     %%%%%%%%%%%%%%%%%%%%%%%%\n",
      "                 ###############      %%%%%%%%%%%%%%%%%%%%%%%%\n",
      "                ##################     %%%%%%%%%%%%%%%%%%%%%%%\n",
      "                ###################     %%%%%%%%%%%%%%%%%%%%%%%\n",
      "                ####################     %%%%%%%%%%%%%%%%%%%%%%\n",
      "                #####################     %%%%%%%%%%%%%%%%%%%%%\n",
      "                ######################     %%%%%%%%%%%%%%%%%%%%\n",
      "                #######################     %%%%%%%%%%%%%%%%%%\n",
      "                 #######################     %%%%%%%%%%%%%%%%%\n",
      "                 ######################     %%%%%%%%%%%%%%%%%\n",
      "                  ####################     %%%%%%%%%%%%%%%%%\n",
      "                    #################     %%%%%%%%%%%%%%%%%\n",
      "                     ###############     %%%%%%%%%%%%%%%%\n",
      "                       ############     %%%%%%%%%%%%%%%\n",
      "                          ########     %%%%%%%%%%%%%%\n",
      "                                      %%%%%%%%%%%\n",
      "\n",
      "                 | The OpenMC Monte Carlo Code\n",
      "       Copyright | 2011-2023 MIT, UChicago Argonne LLC, and contributors\n",
      "         License | https://docs.openmc.org/en/latest/license.html\n",
      "         Version | 0.14.0\n",
      "        Git SHA1 | e1a8ee7794b441c992426f17fafe216391cbba83\n",
      "       Date/Time | 2024-02-28 14:45:22\n",
      "  OpenMP Threads | 30\n",
      "\n",
      " Reading settings XML file...\n",
      " Reading cross sections XML file...\n",
      " Reading materials XML file...\n",
      " Reading geometry XML file...\n",
      " Reading U234 from /home/dzianis/xsdata/endfb-viii.0-hdf5/neutron/U234.h5\n",
      " Reading U235 from /home/dzianis/xsdata/endfb-viii.0-hdf5/neutron/U235.h5\n",
      " Reading U238 from /home/dzianis/xsdata/endfb-viii.0-hdf5/neutron/U238.h5\n",
      " Reading U236 from /home/dzianis/xsdata/endfb-viii.0-hdf5/neutron/U236.h5\n",
      " Reading O16 from /home/dzianis/xsdata/endfb-viii.0-hdf5/neutron/O16.h5\n",
      " Reading O17 from /home/dzianis/xsdata/endfb-viii.0-hdf5/neutron/O17.h5\n",
      " Reading O18 from /home/dzianis/xsdata/endfb-viii.0-hdf5/neutron/O18.h5\n",
      " Reading Zr90 from /home/dzianis/xsdata/endfb-viii.0-hdf5/neutron/Zr90.h5\n",
      " Reading Zr91 from /home/dzianis/xsdata/endfb-viii.0-hdf5/neutron/Zr91.h5\n",
      " Reading Zr92 from /home/dzianis/xsdata/endfb-viii.0-hdf5/neutron/Zr92.h5\n",
      " Reading Zr94 from /home/dzianis/xsdata/endfb-viii.0-hdf5/neutron/Zr94.h5\n",
      " Reading Zr96 from /home/dzianis/xsdata/endfb-viii.0-hdf5/neutron/Zr96.h5\n",
      " WARNING: Negative value(s) found on probability table for nuclide Zr96 at 600K\n",
      " WARNING: Negative value(s) found on probability table for nuclide Zr96 at 900K\n",
      " Reading H1 from /home/dzianis/xsdata/endfb-viii.0-hdf5/neutron/H1.h5\n",
      " Reading H2 from /home/dzianis/xsdata/endfb-viii.0-hdf5/neutron/H2.h5\n",
      " Minimum neutron data temperature: 294 K\n",
      " Maximum neutron data temperature: 900 K\n",
      " Preparing distributed cell instances...\n",
      " Reading plot XML file...\n",
      " Writing summary.h5 file...\n",
      " Maximum neutron transport energy: 20000000 eV for O17\n",
      " Initializing source particles...\n",
      "\n",
      " ====================>     K EIGENVALUE SIMULATION     <====================\n",
      "\n",
      "  Bat./Gen.      k            Average k\n",
      "  =========   ========   ====================\n",
      "        1/1    1.28783\n",
      "        2/1    1.30867\n",
      "        3/1    1.29641\n",
      "        4/1    1.31991\n",
      "        5/1    1.30424\n",
      "        6/1    1.30548\n",
      "        7/1    1.31586\n",
      "        8/1    1.32451\n",
      "        9/1    1.32258\n",
      "       10/1    1.31201\n",
      "       11/1    1.31100\n",
      "       12/1    1.29418\n",
      "       13/1    1.27973\n",
      "       14/1    1.32485\n",
      "       15/1    1.30469\n",
      "       16/1    1.31231\n",
      "       17/1    1.30629\n",
      "       18/1    1.31241\n",
      "       19/1    1.29466\n",
      "       20/1    1.29724\n",
      "       21/1    1.31046\n",
      "       22/1    1.29769\n",
      "       23/1    1.28677\n",
      "       24/1    1.30712\n",
      "       25/1    1.29206\n",
      "       26/1    1.29973\n",
      "       27/1    1.28930\n",
      "       28/1    1.31461\n",
      "       29/1    1.28993\n",
      "       30/1    1.27600\n",
      "       31/1    1.32903\n",
      "       32/1    1.28122\n",
      "       33/1    1.29121\n",
      "       34/1    1.29019\n",
      "       35/1    1.30089\n",
      "       36/1    1.28789\n",
      "       37/1    1.27086\n",
      "       38/1    1.32005\n",
      "       39/1    1.31645\n",
      "       40/1    1.26942\n",
      "       41/1    1.31945\n",
      "       42/1    1.30442\n",
      "       43/1    1.31727\n",
      "       44/1    1.29419\n",
      "       45/1    1.29212\n",
      "       46/1    1.30325\n",
      "       47/1    1.30275\n",
      "       48/1    1.31517\n",
      "       49/1    1.28414\n",
      "       50/1    1.32394\n",
      "       51/1    1.32033\n",
      "       52/1    1.31275    1.31654 +/- 0.00379\n",
      "       53/1    1.30915    1.31408 +/- 0.00329\n",
      "       54/1    1.29963    1.31047 +/- 0.00430\n",
      "       55/1    1.28809    1.30599 +/- 0.00558\n",
      "       56/1    1.29687    1.30447 +/- 0.00480\n",
      "       57/1    1.30933    1.30517 +/- 0.00412\n",
      "       58/1    1.29470    1.30386 +/- 0.00380\n",
      "       59/1    1.31070    1.30462 +/- 0.00343\n",
      "       60/1    1.29169    1.30332 +/- 0.00333\n",
      "       61/1    1.29539    1.30260 +/- 0.00310\n",
      "       62/1    1.32580    1.30454 +/- 0.00343\n",
      "       63/1    1.29390    1.30372 +/- 0.00326\n",
      "       64/1    1.32038    1.30491 +/- 0.00324\n",
      "       65/1    1.33477    1.30690 +/- 0.00361\n",
      "       66/1    1.31741    1.30756 +/- 0.00344\n",
      "       67/1    1.30527    1.30742 +/- 0.00324\n",
      "       68/1    1.28171    1.30599 +/- 0.00337\n",
      "       69/1    1.27792    1.30452 +/- 0.00351\n",
      "       70/1    1.28131    1.30336 +/- 0.00353\n",
      "       71/1    1.30484    1.30343 +/- 0.00336\n",
      "       72/1    1.29733    1.30315 +/- 0.00321\n",
      "       73/1    1.31014    1.30345 +/- 0.00309\n",
      "       74/1    1.32667    1.30442 +/- 0.00311\n",
      "       75/1    1.28192    1.30352 +/- 0.00311\n",
      "       76/1    1.33544    1.30475 +/- 0.00323\n",
      "       77/1    1.28851    1.30415 +/- 0.00317\n",
      "       78/1    1.31676    1.30460 +/- 0.00309\n",
      "       79/1    1.29131    1.30414 +/- 0.00301\n",
      "       80/1    1.28676    1.30356 +/- 0.00297\n",
      "       81/1    1.27693    1.30270 +/- 0.00300\n",
      "       82/1    1.30474    1.30276 +/- 0.00290\n",
      "       83/1    1.28937    1.30236 +/- 0.00284\n",
      "       84/1    1.27514    1.30156 +/- 0.00287\n",
      "       85/1    1.31611    1.30197 +/- 0.00282\n",
      "       86/1    1.29971    1.30191 +/- 0.00274\n",
      "       87/1    1.29815    1.30181 +/- 0.00267\n",
      "       88/1    1.32695    1.30247 +/- 0.00268\n",
      "       89/1    1.32091    1.30294 +/- 0.00265\n",
      "       90/1    1.32218    1.30342 +/- 0.00263\n",
      "       91/1    1.27748    1.30279 +/- 0.00264\n",
      "       92/1    1.28474    1.30236 +/- 0.00261\n",
      "       93/1    1.31267    1.30260 +/- 0.00256\n",
      "       94/1    1.29916    1.30252 +/- 0.00251\n",
      "       95/1    1.30382    1.30255 +/- 0.00245\n",
      "       96/1    1.32381    1.30301 +/- 0.00244\n",
      "       97/1    1.27954    1.30251 +/- 0.00244\n",
      "       98/1    1.30800    1.30263 +/- 0.00239\n",
      "       99/1    1.27456    1.30206 +/- 0.00241\n",
      "      100/1    1.30611    1.30214 +/- 0.00236\n",
      "      101/1    1.29273    1.30195 +/- 0.00232\n",
      "      102/1    1.30663    1.30204 +/- 0.00228\n",
      "      103/1    1.31366    1.30226 +/- 0.00225\n",
      "      104/1    1.32156    1.30262 +/- 0.00223\n",
      "      105/1    1.27248    1.30207 +/- 0.00226\n",
      "      106/1    1.29820    1.30200 +/- 0.00222\n",
      "      107/1    1.30688    1.30209 +/- 0.00218\n",
      "      108/1    1.29707    1.30200 +/- 0.00215\n",
      "      109/1    1.30732    1.30209 +/- 0.00211\n",
      "      110/1    1.29380    1.30195 +/- 0.00208\n",
      "      111/1    1.29688    1.30187 +/- 0.00205\n",
      "      112/1    1.30511    1.30192 +/- 0.00202\n",
      "      113/1    1.30715    1.30201 +/- 0.00199\n",
      "      114/1    1.31707    1.30224 +/- 0.00197\n",
      "      115/1    1.32722    1.30263 +/- 0.00198\n",
      "      116/1    1.29566    1.30252 +/- 0.00195\n",
      "      117/1    1.29388    1.30239 +/- 0.00192\n",
      "      118/1    1.27884    1.30204 +/- 0.00193\n",
      "      119/1    1.31320    1.30221 +/- 0.00190\n",
      "      120/1    1.31645    1.30241 +/- 0.00189\n",
      "      121/1    1.29387    1.30229 +/- 0.00187\n",
      "      122/1    1.27788    1.30195 +/- 0.00187\n",
      "      123/1    1.28705    1.30175 +/- 0.00186\n",
      "      124/1    1.27914    1.30144 +/- 0.00186\n",
      "      125/1    1.33032    1.30183 +/- 0.00187\n",
      "      126/1    1.29862    1.30178 +/- 0.00185\n",
      "      127/1    1.29454    1.30169 +/- 0.00182\n",
      "      128/1    1.30180    1.30169 +/- 0.00180\n",
      "      129/1    1.30988    1.30179 +/- 0.00178\n",
      "      130/1    1.29785    1.30175 +/- 0.00176\n",
      "      131/1    1.29970    1.30172 +/- 0.00174\n",
      "      132/1    1.29977    1.30170 +/- 0.00172\n",
      "      133/1    1.26027    1.30120 +/- 0.00177\n",
      "      134/1    1.30417    1.30123 +/- 0.00175\n",
      "      135/1    1.28214    1.30101 +/- 0.00174\n",
      "      136/1    1.24908    1.30040 +/- 0.00182\n",
      "      137/1    1.31076    1.30052 +/- 0.00181\n",
      "      138/1    1.29378    1.30045 +/- 0.00179\n",
      "      139/1    1.29625    1.30040 +/- 0.00177\n",
      "      140/1    1.31816    1.30060 +/- 0.00176\n",
      "      141/1    1.32970    1.30092 +/- 0.00177\n",
      "      142/1    1.30914    1.30101 +/- 0.00175\n",
      "      143/1    1.29513    1.30094 +/- 0.00173\n",
      "      144/1    1.30696    1.30101 +/- 0.00172\n",
      "      145/1    1.30431    1.30104 +/- 0.00170\n",
      "      146/1    1.28299    1.30085 +/- 0.00169\n",
      "      147/1    1.30040    1.30085 +/- 0.00167\n",
      "      148/1    1.30436    1.30088 +/- 0.00166\n",
      "      149/1    1.30611    1.30094 +/- 0.00164\n",
      "      150/1    1.29157    1.30084 +/- 0.00163\n",
      " Creating state point statepoint.150.h5...\n",
      "\n",
      " =======================>     TIMING STATISTICS     <=======================\n",
      "\n",
      " Total time for initialization     = 7.3275e-01 seconds\n",
      "   Reading cross sections          = 6.5591e-01 seconds\n",
      " Total time in simulation          = 5.4994e+00 seconds\n",
      "   Time in transport only          = 5.4070e+00 seconds\n",
      "   Time in inactive batches        = 1.8295e+00 seconds\n",
      "   Time in active batches          = 3.6699e+00 seconds\n",
      "   Time synchronizing fission bank = 5.7987e-02 seconds\n",
      "     Sampling source sites         = 4.8813e-02 seconds\n",
      "     SEND/RECV source sites        = 9.0686e-03 seconds\n",
      "   Time accumulating tallies       = 4.6468e-05 seconds\n",
      "   Time writing statepoints        = 1.3655e-02 seconds\n",
      " Total time for finalization       = 5.0500e-07 seconds\n",
      " Total time elapsed                = 6.2379e+00 seconds\n",
      " Calculation Rate (inactive)       = 273300 particles/second\n",
      " Calculation Rate (active)         = 272489 particles/second\n",
      "\n",
      " ============================>     RESULTS     <============================\n",
      "\n",
      " k-effective (Collision)     = 1.30209 +/- 0.00144\n",
      " k-effective (Track-length)  = 1.30084 +/- 0.00163\n",
      " k-effective (Absorption)    = 1.30289 +/- 0.00095\n",
      " Combined k-effective        = 1.30262 +/- 0.00095\n",
      " Leakage Fraction            = 0.00000 +/- 0.00000\n",
      "\n"
     ]
    }
   ],
   "source": [
    "enrichment = 4.5\n",
    "pitch = 1.26\n",
    "frad = 0.45\n",
    "tfuel = 900 \n",
    "tmoderator = 600\n",
    "# Defining water density using IAPWS97 module, with given temperature and pressure\n",
    "water = IAPWS97(T=tmoderator, P=15.)\n",
    "mod_dens = round(water.rho * 0.001, 3)\n",
    "clad = 0.06\n",
    "batches = 150\n",
    "inactive = 50\n",
    "particles = 10000\n",
    "nthreads = 30\n",
    "\n",
    "make_openmc_input(enrichment, pitch, frad, tfuel, tmoderator, mod_dens, clad, batches, inactive, particles)\n",
    "run_openmc(nthreads=nthreads, output=True)\n",
    "keff, std = get_keff_std(batches=batches)"
   ]
  },
  {
   "cell_type": "code",
   "execution_count": 12,
   "metadata": {},
   "outputs": [
    {
     "name": "stdout",
     "output_type": "stream",
     "text": [
      "1.3026228981871255\n"
     ]
    }
   ],
   "source": [
    "print(keff)"
   ]
  },
  {
   "cell_type": "code",
   "execution_count": 13,
   "metadata": {},
   "outputs": [
    {
     "name": "stdout",
     "output_type": "stream",
     "text": [
      "0.0009491550850895128\n"
     ]
    }
   ],
   "source": [
    "print(std)"
   ]
  },
  {
   "cell_type": "markdown",
   "metadata": {},
   "source": [
    "Print standard deviation in pcm:"
   ]
  },
  {
   "cell_type": "code",
   "execution_count": 14,
   "metadata": {},
   "outputs": [
    {
     "name": "stdout",
     "output_type": "stream",
     "text": [
      " Standard deviation is 94 pcm\n"
     ]
    }
   ],
   "source": [
    "print(\" Standard deviation is {:} pcm\".format(int(std*100000)))"
   ]
  }
 ],
 "metadata": {
  "kernelspec": {
   "display_name": "openmc",
   "language": "python",
   "name": "openmc"
  },
  "language_info": {
   "codemirror_mode": {
    "name": "ipython",
    "version": 3
   },
   "file_extension": ".py",
   "mimetype": "text/x-python",
   "name": "python",
   "nbconvert_exporter": "python",
   "pygments_lexer": "ipython3",
   "version": "3.11.8"
  }
 },
 "nbformat": 4,
 "nbformat_minor": 4
}
